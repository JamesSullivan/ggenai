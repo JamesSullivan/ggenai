{
 "cells": [
  {
   "cell_type": "markdown",
   "metadata": {
    "id": "b6e13eef3f5d"
   },
   "source": [
    "##### Copyright 2025 Google LLC."
   ]
  },
  {
   "cell_type": "code",
   "execution_count": null,
   "metadata": {
    "cellView": "form",
    "execution": {
     "iopub.execute_input": "2025-02-28T07:39:24.011577Z",
     "iopub.status.busy": "2025-02-28T07:39:24.010656Z",
     "iopub.status.idle": "2025-02-28T07:39:24.035703Z",
     "shell.execute_reply": "2025-02-28T07:39:24.034263Z",
     "shell.execute_reply.started": "2025-02-28T07:39:24.011515Z"
    },
    "id": "d6597b11df14",
    "jupyter": {
     "source_hidden": true
    },
    "trusted": true
   },
   "outputs": [],
   "source": [
    "# @title Licensed under the Apache License, Version 2.0 (the \"License\");\n",
    "# you may not use this file except in compliance with the License.\n",
    "# You may obtain a copy of the License at\n",
    "#\n",
    "# https://www.apache.org/licenses/LICENSE-2.0\n",
    "#\n",
    "# Unless required by applicable law or agreed to in writing, software\n",
    "# distributed under the License is distributed on an \"AS IS\" BASIS,\n",
    "# WITHOUT WARRANTIES OR CONDITIONS OF ANY KIND, either express or implied.\n",
    "# See the License for the specific language governing permissions and\n",
    "# limitations under the License."
   ]
  },
  {
   "cell_type": "markdown",
   "metadata": {
    "id": "4KDIFPAL2EnL"
   },
   "source": [
    "# Day 4 - Fine tuning a custom model\n",
    "\n",
    "Welcome back to the Kaggle 5-day Generative AI course!\n",
    "\n",
    "In this notebook you will use the Gemini API to fine-tune a custom, task-specific model. Fine-tuning can be used for a variety of tasks from classic NLP problems like entity extraction or summarisation, to creative tasks like stylised generation. You will fine-tune a model to classify the category a piece of text (a newsgroup post) into the category it belongs to (the newsgroup name).\n",
    "\n",
    "This codelab walks you tuning a model with the API. [AI Studio](https://aistudio.google.com/app/tune) also supports creating new tuned models directly in the web UI, allowing you to quickly create and monitor models using data from Google Sheets, Drive or your own files.\n",
    "\n",
    "**Note**: We recommend doing this codelab first today. There may be a period of waiting while the model tunes, so if you start with this one, you can try the other codelab while you wait."
   ]
  },
  {
   "cell_type": "code",
   "execution_count": null,
   "metadata": {
    "execution": {
     "iopub.execute_input": "2025-04-02T07:48:50.51413Z",
     "iopub.status.busy": "2025-04-02T07:48:50.513748Z",
     "iopub.status.idle": "2025-04-02T07:49:10.461862Z",
     "shell.execute_reply": "2025-04-02T07:49:10.46006Z",
     "shell.execute_reply.started": "2025-04-02T07:48:50.514097Z"
    },
    "id": "9wafTyEH1_xF",
    "trusted": true
   },
   "outputs": [],
   "source": [
    "# !pip uninstall -qqy jupyterlab  # Remove unused conflicting packages\n",
    "# !pip install -U -q \"google-genai==1.7.0\"\n",
    "\n",
    "# For use locally\n",
    "# conda create -n \"ggenai\" python=3.12 ipython jupyter numpy pandas matplotlib pydantic pytest python-dotenv pandas-stubs types-requests types-python-dateutil google-genai chromadb langgraph langchain-google-genai langgraph-prebuilt ipython-sql sqlalchemy sklearn\n",
    "# conda activate ggenai"
   ]
  },
  {
   "cell_type": "code",
   "execution_count": 1,
   "metadata": {
    "execution": {
     "iopub.execute_input": "2025-04-02T07:49:10.465052Z",
     "iopub.status.busy": "2025-04-02T07:49:10.464654Z",
     "iopub.status.idle": "2025-04-02T07:49:11.954087Z",
     "shell.execute_reply": "2025-04-02T07:49:11.95277Z",
     "shell.execute_reply.started": "2025-04-02T07:49:10.465012Z"
    },
    "id": "T0CBG9xL2PvT",
    "trusted": true
   },
   "outputs": [
    {
     "data": {
      "text/plain": [
       "'1.9.0'"
      ]
     },
     "execution_count": 1,
     "metadata": {},
     "output_type": "execute_result"
    }
   ],
   "source": [
    "from google import genai\n",
    "from google.genai import types\n",
    "\n",
    "genai.__version__"
   ]
  },
  {
   "cell_type": "markdown",
   "metadata": {
    "id": "P4bYX2T72ScK"
   },
   "source": [
    "### Set up your API key\n",
    "\n",
    "To run the following cell, your API key must be stored it in a [Kaggle secret](https://www.kaggle.com/discussions/product-feedback/114053) named `GOOGLE_API_KEY`.\n",
    "\n",
    "If you don't already have an API key, you can grab one from [AI Studio](https://aistudio.google.com/app/apikey). You can find [detailed instructions in the docs](https://ai.google.dev/gemini-api/docs/api-key).\n",
    "\n",
    "To make the key available through Kaggle secrets, choose `Secrets` from the `Add-ons` menu and follow the instructions to add your key or enable it for this notebook."
   ]
  },
  {
   "cell_type": "code",
   "execution_count": 2,
   "metadata": {
    "execution": {
     "iopub.execute_input": "2025-04-02T07:49:11.956072Z",
     "iopub.status.busy": "2025-04-02T07:49:11.955554Z",
     "iopub.status.idle": "2025-04-02T07:49:12.223295Z",
     "shell.execute_reply": "2025-04-02T07:49:12.22195Z",
     "shell.execute_reply.started": "2025-04-02T07:49:11.956035Z"
    },
    "id": "VuJPY3GK2SLZ",
    "trusted": true
   },
   "outputs": [
    {
     "name": "stdout",
     "output_type": "stream",
     "text": [
      "39\n"
     ]
    }
   ],
   "source": [
    "# For use on Kaggle\n",
    "# from kaggle_secrets import UserSecretsClient\n",
    "# GOOGLE_API_KEY = UserSecretsClient().get_secret(\"GOOGLE_API_KEY\")\n",
    "\n",
    "# For use locally\n",
    "import os\n",
    "from dotenv import load_dotenv\n",
    "load_dotenv()\n",
    "GOOGLE_API_KEY = os.getenv(\"GOOGLE_API_KEY\")\n",
    "print(len(GOOGLE_API_KEY))\n",
    "\n",
    "client = genai.Client(api_key=GOOGLE_API_KEY)"
   ]
  },
  {
   "cell_type": "markdown",
   "metadata": {
    "id": "25b2127c2052"
   },
   "source": [
    "If you received an error response along the lines of `No user secrets exist for kernel id ...`, then you need to add your API key via `Add-ons`, `Secrets` **and** enable it.\n",
    "\n",
    "![Screenshot of the checkbox to enable GOOGLE_API_KEY secret](https://storage.googleapis.com/kaggle-media/Images/5gdai_sc_3.png)"
   ]
  },
  {
   "cell_type": "markdown",
   "metadata": {
    "id": "CqVA5QFO6n4z"
   },
   "source": [
    "### Explore available models\n",
    "\n",
    "You will be using the [`TunedModel.create`](https://ai.google.dev/api/tuning#method:-tunedmodels.create) API method to start the fine-tuning job and create your custom model. Find a model that supports it through the [`models.list`](https://ai.google.dev/api/models#method:-models.list) endpoint. You can also find more information about tuning models in [the model tuning docs](https://ai.google.dev/gemini-api/docs/model-tuning/tutorial?lang=python)."
   ]
  },
  {
   "cell_type": "code",
   "execution_count": 3,
   "metadata": {
    "execution": {
     "iopub.execute_input": "2025-04-02T07:49:12.225986Z",
     "iopub.status.busy": "2025-04-02T07:49:12.225628Z",
     "iopub.status.idle": "2025-04-02T07:49:12.475683Z",
     "shell.execute_reply": "2025-04-02T07:49:12.47424Z",
     "shell.execute_reply.started": "2025-04-02T07:49:12.225951Z"
    },
    "id": "coEacWAB6o0G",
    "trusted": true
   },
   "outputs": [
    {
     "name": "stdout",
     "output_type": "stream",
     "text": [
      "models/gemini-1.5-flash-001-tuning\n"
     ]
    }
   ],
   "source": [
    "for model in client.models.list():\n",
    "    if \"createTunedModel\" in model.supported_actions:\n",
    "        print(model.name)"
   ]
  },
  {
   "cell_type": "markdown",
   "metadata": {
    "id": "peFm0w_0c1CO"
   },
   "source": [
    "## Download the dataset\n",
    "\n",
    "In this activity, you will use the same newsgroups dataset that [you used to train a classifier in Keras](https://www.kaggle.com/code/markishere/day-2-classifying-embeddings-with-keras/). In this example you will use a fine-tuned Gemini model to achieve the same goal.\n",
    "\n",
    "The [20 Newsgroups Text Dataset](https://scikit-learn.org/0.19/datasets/twenty_newsgroups.html) contains 18,000 newsgroups posts on 20 topics divided into training and test sets."
   ]
  },
  {
   "cell_type": "code",
   "execution_count": 4,
   "metadata": {
    "execution": {
     "iopub.execute_input": "2025-04-02T07:49:12.477215Z",
     "iopub.status.busy": "2025-04-02T07:49:12.476866Z",
     "iopub.status.idle": "2025-04-02T07:49:24.294123Z",
     "shell.execute_reply": "2025-04-02T07:49:24.292962Z",
     "shell.execute_reply.started": "2025-04-02T07:49:12.477128Z"
    },
    "id": "bX_kpgnQ9b-Z",
    "trusted": true
   },
   "outputs": [
    {
     "data": {
      "text/plain": [
       "['alt.atheism',\n",
       " 'comp.graphics',\n",
       " 'comp.os.ms-windows.misc',\n",
       " 'comp.sys.ibm.pc.hardware',\n",
       " 'comp.sys.mac.hardware',\n",
       " 'comp.windows.x',\n",
       " 'misc.forsale',\n",
       " 'rec.autos',\n",
       " 'rec.motorcycles',\n",
       " 'rec.sport.baseball',\n",
       " 'rec.sport.hockey',\n",
       " 'sci.crypt',\n",
       " 'sci.electronics',\n",
       " 'sci.med',\n",
       " 'sci.space',\n",
       " 'soc.religion.christian',\n",
       " 'talk.politics.guns',\n",
       " 'talk.politics.mideast',\n",
       " 'talk.politics.misc',\n",
       " 'talk.religion.misc']"
      ]
     },
     "execution_count": 4,
     "metadata": {},
     "output_type": "execute_result"
    }
   ],
   "source": [
    "from sklearn.datasets import fetch_20newsgroups\n",
    "\n",
    "newsgroups_train = fetch_20newsgroups(subset=\"train\")\n",
    "newsgroups_test = fetch_20newsgroups(subset=\"test\")\n",
    "\n",
    "# View list of class names for dataset\n",
    "newsgroups_train.target_names"
   ]
  },
  {
   "cell_type": "markdown",
   "metadata": {
    "id": "ipafe6ptZFjt"
   },
   "source": [
    "Here's what a single row looks like."
   ]
  },
  {
   "cell_type": "code",
   "execution_count": 5,
   "metadata": {
    "execution": {
     "iopub.execute_input": "2025-04-02T07:49:24.295965Z",
     "iopub.status.busy": "2025-04-02T07:49:24.295557Z",
     "iopub.status.idle": "2025-04-02T07:49:24.301543Z",
     "shell.execute_reply": "2025-04-02T07:49:24.300488Z",
     "shell.execute_reply.started": "2025-04-02T07:49:24.295933Z"
    },
    "id": "EtEXcdT39hCB",
    "trusted": true
   },
   "outputs": [
    {
     "name": "stdout",
     "output_type": "stream",
     "text": [
      "From: lerxst@wam.umd.edu (where's my thing)\n",
      "Subject: WHAT car is this!?\n",
      "Nntp-Posting-Host: rac3.wam.umd.edu\n",
      "Organization: University of Maryland, College Park\n",
      "Lines: 15\n",
      "\n",
      " I was wondering if anyone out there could enlighten me on this car I saw\n",
      "the other day. It was a 2-door sports car, looked to be from the late 60s/\n",
      "early 70s. It was called a Bricklin. The doors were really small. In addition,\n",
      "the front bumper was separate from the rest of the body. This is \n",
      "all I know. If anyone can tellme a model name, engine specs, years\n",
      "of production, where this car is made, history, or whatever info you\n",
      "have on this funky looking car, please e-mail.\n",
      "\n",
      "Thanks,\n",
      "- IL\n",
      "   ---- brought to you by your neighborhood Lerxst ----\n",
      "\n",
      "\n",
      "\n",
      "\n",
      "\n"
     ]
    }
   ],
   "source": [
    "print(newsgroups_train.data[0])"
   ]
  },
  {
   "cell_type": "markdown",
   "metadata": {
    "id": "03lDs1O4ZQ0-"
   },
   "source": [
    "## Prepare the dataset\n",
    "\n",
    "You'll use the same pre-processing code you used for the custom model on day 2. This pre-processing removes personal information, which can be used to \"shortcut\" to known users of a forum, and formats the text to appear a bit more like regular text and less like a newsgroup post (e.g. by removing the mail headers). This normalisation allows the model to generalise to regular text and not over-depend on specific fields. If your input data is always going to be newsgroup posts, it may be helpful to leave this structure in place if they provide genuine signals."
   ]
  },
  {
   "cell_type": "code",
   "execution_count": 6,
   "metadata": {
    "execution": {
     "iopub.execute_input": "2025-04-02T07:49:24.303116Z",
     "iopub.status.busy": "2025-04-02T07:49:24.302711Z",
     "iopub.status.idle": "2025-04-02T07:49:24.673312Z",
     "shell.execute_reply": "2025-04-02T07:49:24.671991Z",
     "shell.execute_reply.started": "2025-04-02T07:49:24.30307Z"
    },
    "id": "IoNYTxpoZgB0",
    "trusted": true
   },
   "outputs": [],
   "source": [
    "import email\n",
    "import re\n",
    "\n",
    "import pandas as pd\n",
    "\n",
    "\n",
    "def preprocess_newsgroup_row(data):\n",
    "    # Extract only the subject and body\n",
    "    msg = email.message_from_string(data)\n",
    "    text = f\"{msg['Subject']}\\n\\n{msg.get_payload()}\"\n",
    "    # Strip any remaining email addresses\n",
    "    text = re.sub(r\"[\\w\\.-]+@[\\w\\.-]+\", \"\", text)\n",
    "    # Truncate the text to fit within the input limits\n",
    "    text = text[:40000]\n",
    "\n",
    "    return text\n",
    "\n",
    "\n",
    "def preprocess_newsgroup_data(newsgroup_dataset):\n",
    "    # Put data points into dataframe\n",
    "    df = pd.DataFrame(\n",
    "        {\"Text\": newsgroup_dataset.data, \"Label\": newsgroup_dataset.target}\n",
    "    )\n",
    "    # Clean up the text\n",
    "    df[\"Text\"] = df[\"Text\"].apply(preprocess_newsgroup_row)\n",
    "    # Match label to target name index\n",
    "    df[\"Class Name\"] = df[\"Label\"].map(lambda l: newsgroup_dataset.target_names[l])\n",
    "\n",
    "    return df"
   ]
  },
  {
   "cell_type": "code",
   "execution_count": 7,
   "metadata": {
    "execution": {
     "iopub.execute_input": "2025-04-02T07:49:43.573622Z",
     "iopub.status.busy": "2025-04-02T07:49:43.572509Z",
     "iopub.status.idle": "2025-04-02T07:49:47.447228Z",
     "shell.execute_reply": "2025-04-02T07:49:47.445992Z",
     "shell.execute_reply.started": "2025-04-02T07:49:43.573563Z"
    },
    "id": "kvOsUSRWaW4g",
    "trusted": true
   },
   "outputs": [
    {
     "data": {
      "application/vnd.microsoft.datawrangler.viewer.v0+json": {
       "columns": [
        {
         "name": "index",
         "rawType": "int64",
         "type": "integer"
        },
        {
         "name": "Text",
         "rawType": "object",
         "type": "string"
        },
        {
         "name": "Label",
         "rawType": "int64",
         "type": "integer"
        },
        {
         "name": "Class Name",
         "rawType": "object",
         "type": "string"
        }
       ],
       "conversionMethod": "pd.DataFrame",
       "ref": "52d24ee8-b4ac-41d2-9f64-2165898e823a",
       "rows": [
        [
         "0",
         "WHAT car is this!?\n\n I was wondering if anyone out there could enlighten me on this car I saw\nthe other day. It was a 2-door sports car, looked to be from the late 60s/\nearly 70s. It was called a Bricklin. The doors were really small. In addition,\nthe front bumper was separate from the rest of the body. This is \nall I know. If anyone can tellme a model name, engine specs, years\nof production, where this car is made, history, or whatever info you\nhave on this funky looking car, please e-mail.\n\nThanks,\n- IL\n   ---- brought to you by your neighborhood Lerxst ----\n\n\n\n\n",
         "7",
         "rec.autos"
        ],
        [
         "1",
         "SI Clock Poll - Final Call\n\nA fair number of brave souls who upgraded their SI clock oscillator have\nshared their experiences for this poll. Please send a brief message detailing\nyour experiences with the procedure. Top speed attained, CPU rated speed,\nadd on cards and adapters, heat sinks, hour of usage per day, floppy disk\nfunctionality with 800 and 1.4 m floppies are especially requested.\n\nI will be summarizing in the next two days, so please add to the network\nknowledge base if you have done the clock upgrade and haven't answered this\npoll. Thanks.\n\nGuy Kuo <>\n",
         "4",
         "comp.sys.mac.hardware"
        ],
        [
         "2",
         "PB questions...\n\nwell folks, my mac plus finally gave up the ghost this weekend after\nstarting life as a 512k way back in 1985.  sooo, i'm in the market for a\nnew machine a bit sooner than i intended to be...\n\ni'm looking into picking up a powerbook 160 or maybe 180 and have a bunch\nof questions that (hopefully) somebody can answer:\n\n* does anybody know any dirt on when the next round of powerbook\nintroductions are expected?  i'd heard the 185c was supposed to make an\nappearence \"this summer\" but haven't heard anymore on it - and since i\ndon't have access to macleak, i was wondering if anybody out there had\nmore info...\n\n* has anybody heard rumors about price drops to the powerbook line like the\nones the duo's just went through recently?\n\n* what's the impression of the display on the 180?  i could probably swing\na 180 if i got the 80Mb disk rather than the 120, but i don't really have\na feel for how much \"better\" the display is (yea, it looks great in the\nstore, but is that all \"wow\" or is it really that good?).  could i solicit\nsome opinions of people who use the 160 and 180 day-to-day on if its worth\ntaking the disk size and money hit to get the active display?  (i realize\nthis is a real subjective question, but i've only played around with the\nmachines in a computer store breifly and figured the opinions of somebody\nwho actually uses the machine daily might prove helpful).\n\n* how well does hellcats perform?  ;)\n\nthanks a bunch in advance for any info - if you could email, i'll post a\nsummary (news reading time is at a premium with finals just around the\ncorner... :( )\n--\nTom Willis  \\      \\    Purdue Electrical Engineering\n---------------------------------------------------------------------------\n\"Convictions are more dangerous enemies of truth than lies.\"  - F. W.\nNietzsche\n",
         "4",
         "comp.sys.mac.hardware"
        ],
        [
         "3",
         "Re: Weitek P9000 ?\n\nRobert J.C. Kyanko () wrote:\n>  writes in article <>:\n> > Anyone know about the Weitek P9000 graphics chip?\n> As far as the low-level stuff goes, it looks pretty nice.  It's got this\n> quadrilateral fill command that requires just the four points.\n\nDo you have Weitek's address/phone number?  I'd like to get some information\nabout this chip.\n\n--\nJoe Green\t\t\t\tHarris Corporation\n\t\t\tComputer Systems Division\n\"The only thing that really scares me is a person with no sense of humor.\"\n\t\t\t\t\t\t-- Jonathan Winters\n",
         "1",
         "comp.graphics"
        ],
        [
         "4",
         "Re: Shuttle Launch Question\n\nFrom article <>, by  (Tom A Baker):\n>>In article <>,  (Pack Rat) writes...\n>>>\"Clear caution & warning memory.  Verify no unexpected\n>>>errors. ...\".  I am wondering what an \"expected error\" might\n>>>be.  Sorry if this is a really dumb question, but\n> \n> Parity errors in memory or previously known conditions that were waivered.\n>    \"Yes that is an error, but we already knew about it\"\n> I'd be curious as to what the real meaning of the quote is.\n> \n> tom\n\n\nMy understanding is that the 'expected errors' are basically\nknown bugs in the warning system software - things are checked\nthat don't have the right values in yet because they aren't\nset till after launch, and suchlike. Rather than fix the code\nand possibly introduce new bugs, they just tell the crew\n'ok, if you see a warning no. 213 before liftoff, ignore it'.\n\n - Jonathan\n\n\n",
         "14",
         "sci.space"
        ]
       ],
       "shape": {
        "columns": 3,
        "rows": 5
       }
      },
      "text/html": [
       "<div>\n",
       "<style scoped>\n",
       "    .dataframe tbody tr th:only-of-type {\n",
       "        vertical-align: middle;\n",
       "    }\n",
       "\n",
       "    .dataframe tbody tr th {\n",
       "        vertical-align: top;\n",
       "    }\n",
       "\n",
       "    .dataframe thead th {\n",
       "        text-align: right;\n",
       "    }\n",
       "</style>\n",
       "<table border=\"1\" class=\"dataframe\">\n",
       "  <thead>\n",
       "    <tr style=\"text-align: right;\">\n",
       "      <th></th>\n",
       "      <th>Text</th>\n",
       "      <th>Label</th>\n",
       "      <th>Class Name</th>\n",
       "    </tr>\n",
       "  </thead>\n",
       "  <tbody>\n",
       "    <tr>\n",
       "      <th>0</th>\n",
       "      <td>WHAT car is this!?\\n\\n I was wondering if anyo...</td>\n",
       "      <td>7</td>\n",
       "      <td>rec.autos</td>\n",
       "    </tr>\n",
       "    <tr>\n",
       "      <th>1</th>\n",
       "      <td>SI Clock Poll - Final Call\\n\\nA fair number of...</td>\n",
       "      <td>4</td>\n",
       "      <td>comp.sys.mac.hardware</td>\n",
       "    </tr>\n",
       "    <tr>\n",
       "      <th>2</th>\n",
       "      <td>PB questions...\\n\\nwell folks, my mac plus fin...</td>\n",
       "      <td>4</td>\n",
       "      <td>comp.sys.mac.hardware</td>\n",
       "    </tr>\n",
       "    <tr>\n",
       "      <th>3</th>\n",
       "      <td>Re: Weitek P9000 ?\\n\\nRobert J.C. Kyanko () wr...</td>\n",
       "      <td>1</td>\n",
       "      <td>comp.graphics</td>\n",
       "    </tr>\n",
       "    <tr>\n",
       "      <th>4</th>\n",
       "      <td>Re: Shuttle Launch Question\\n\\nFrom article &lt;&gt;...</td>\n",
       "      <td>14</td>\n",
       "      <td>sci.space</td>\n",
       "    </tr>\n",
       "  </tbody>\n",
       "</table>\n",
       "</div>"
      ],
      "text/plain": [
       "                                                Text  Label  \\\n",
       "0  WHAT car is this!?\\n\\n I was wondering if anyo...      7   \n",
       "1  SI Clock Poll - Final Call\\n\\nA fair number of...      4   \n",
       "2  PB questions...\\n\\nwell folks, my mac plus fin...      4   \n",
       "3  Re: Weitek P9000 ?\\n\\nRobert J.C. Kyanko () wr...      1   \n",
       "4  Re: Shuttle Launch Question\\n\\nFrom article <>...     14   \n",
       "\n",
       "              Class Name  \n",
       "0              rec.autos  \n",
       "1  comp.sys.mac.hardware  \n",
       "2  comp.sys.mac.hardware  \n",
       "3          comp.graphics  \n",
       "4              sci.space  "
      ]
     },
     "execution_count": 7,
     "metadata": {},
     "output_type": "execute_result"
    }
   ],
   "source": [
    "# Apply preprocessing to training and test datasets\n",
    "df_train = preprocess_newsgroup_data(newsgroups_train)\n",
    "df_test = preprocess_newsgroup_data(newsgroups_test)\n",
    "\n",
    "df_train.head()"
   ]
  },
  {
   "cell_type": "markdown",
   "metadata": {
    "id": "XSKcj5WtadaR"
   },
   "source": [
    "Now sample the data. You will keep 50 rows for each category for training. Note that this is even fewer than the Keras example, as this technique (parameter-efficient fine-tuning, or PEFT) updates a relatively small number of parameters and does not require training a new model or updating the large model."
   ]
  },
  {
   "cell_type": "code",
   "execution_count": 8,
   "metadata": {
    "execution": {
     "iopub.execute_input": "2025-04-02T07:49:47.448998Z",
     "iopub.status.busy": "2025-04-02T07:49:47.44871Z",
     "iopub.status.idle": "2025-04-02T07:49:47.504263Z",
     "shell.execute_reply": "2025-04-02T07:49:47.502994Z",
     "shell.execute_reply.started": "2025-04-02T07:49:47.448972Z"
    },
    "id": "0t9Xu6X5akkt",
    "trusted": true
   },
   "outputs": [],
   "source": [
    "def sample_data(df, num_samples, classes_to_keep):\n",
    "    # Sample rows, selecting num_samples of each Label.\n",
    "    df = (\n",
    "        df.groupby(\"Label\")[df.columns]\n",
    "        .apply(lambda x: x.sample(num_samples))\n",
    "        .reset_index(drop=True)\n",
    "    )\n",
    "\n",
    "    df = df[df[\"Class Name\"].str.contains(classes_to_keep)]\n",
    "    df[\"Class Name\"] = df[\"Class Name\"].astype(\"category\")\n",
    "\n",
    "    return df\n",
    "\n",
    "\n",
    "TRAIN_NUM_SAMPLES = 50\n",
    "TEST_NUM_SAMPLES = 10\n",
    "# Keep rec.* and sci.*\n",
    "CLASSES_TO_KEEP = \"^rec|^sci\"\n",
    "\n",
    "df_train = sample_data(df_train, TRAIN_NUM_SAMPLES, CLASSES_TO_KEEP)\n",
    "df_test = sample_data(df_test, TEST_NUM_SAMPLES, CLASSES_TO_KEEP)"
   ]
  },
  {
   "cell_type": "markdown",
   "metadata": {},
   "source": [
    "## Evaluate baseline performance\n",
    "\n",
    "Before you start tuning a model, it's good practice to perform an evaluation on the available models to ensure you can measure how much the tuning helps.\n",
    "\n",
    "First identify a single sample row to use for visual inspection."
   ]
  },
  {
   "cell_type": "code",
   "execution_count": 9,
   "metadata": {
    "execution": {
     "iopub.execute_input": "2025-04-02T07:49:52.105294Z",
     "iopub.status.busy": "2025-04-02T07:49:52.104893Z",
     "iopub.status.idle": "2025-04-02T07:49:52.112083Z",
     "shell.execute_reply": "2025-04-02T07:49:52.110865Z",
     "shell.execute_reply.started": "2025-04-02T07:49:52.105259Z"
    },
    "trusted": true
   },
   "outputs": [
    {
     "name": "stdout",
     "output_type": "stream",
     "text": [
      "Need info on 88-89 Bonneville\n",
      "\n",
      "\n",
      " I am a little confused on all of the models of the 88-89 bonnevilles.\n",
      "I have heard of the LE SE LSE SSE SSEI. Could someone tell me the\n",
      "differences are far as features or performance. I am also curious to\n",
      "know what the book value is for prefereably the 89 model. And how much\n",
      "less than book value can you usually get them for. In other words how\n",
      "much are they in demand this time of year. I have heard that the mid-spring\n",
      "early summer is the best time to buy.\n",
      "\n",
      "\t\t\tNeil Gandler\n",
      "\n",
      "---\n",
      "Label: rec.autos\n"
     ]
    }
   ],
   "source": [
    "sample_idx = 0\n",
    "sample_row = preprocess_newsgroup_row(newsgroups_test.data[sample_idx])\n",
    "sample_label = newsgroups_test.target_names[newsgroups_test.target[sample_idx]]\n",
    "\n",
    "print(sample_row)\n",
    "print('---')\n",
    "print('Label:', sample_label)"
   ]
  },
  {
   "cell_type": "markdown",
   "metadata": {},
   "source": [
    "Passing the text directly in as a prompt does not yield the desired results. The model will attempt to respond to the message."
   ]
  },
  {
   "cell_type": "code",
   "execution_count": 10,
   "metadata": {
    "execution": {
     "iopub.execute_input": "2025-04-02T07:49:54.457192Z",
     "iopub.status.busy": "2025-04-02T07:49:54.456192Z",
     "iopub.status.idle": "2025-04-02T07:49:58.006099Z",
     "shell.execute_reply": "2025-04-02T07:49:58.005024Z",
     "shell.execute_reply.started": "2025-04-02T07:49:54.457136Z"
    },
    "trusted": true
   },
   "outputs": [
    {
     "name": "stdout",
     "output_type": "stream",
     "text": [
      "## 1988-1989 Pontiac Bonneville:  Decoding the Models \n",
      "\n",
      "You're right, the 1988-1989 Bonneville lineup can be confusing! Here's a breakdown to help you understand the differences:\n",
      "\n",
      "**Model Codes & Features**\n",
      "\n",
      "* **LE:** The base model. Equipped with a 3.8L V6 engine, cloth interior, and basic features. \n",
      "* **SE:**  The \"Sport Edition.\"  Often featured a sportier appearance (possibly with a body kit), upgraded wheels, and could be found with the optional 5.0L V8 engine. \n",
      "* **LSE:**  This is the **Luxury Sport Edition**.  It combined the luxury features of the LE (like leather interior) with the sporty styling of the SE.  It was often equipped with the 5.0L V8.\n",
      "* **SSE:**  The \"Sport Sedan Edition.\"  These were often the top-of-the-line models, featuring performance upgrades like a 5.7L V8, larger brakes, and a sport-tuned suspension.  They also featured luxurious features like leather interior and electronic amenities.  \n",
      "* **SSEi:**  The \"Sport Sedan Edition, fuel-injected.\"  This designation indicates the 5.7L V8 engine was equipped with fuel injection, contributing to better performance and efficiency. \n",
      "\n",
      "**Performance:**\n",
      "\n",
      "* **3.8L V6:** This engine was adequate for daily driving but lacked the power of the V8 options. \n",
      "* **5.0L V8:** This engine provided a significant performance upgrade, especially with the optional 4-speed automatic transmission.\n",
      "* **5.7L V8:** This was the top-of-the-line engine.  It was a powerful and robust option, offering significant acceleration and passing power.\n",
      "\n",
      "**Book Value & Market Demand:**\n",
      "\n",
      "Unfortunately, providing a precise book value is impossible without knowing the specific trim level, mileage, condition, and location of the car.  However, you can use online resources like:\n",
      "\n",
      "* **Kelley Blue Book (KBB):** [https://www.kbb.com/](https://www.kbb.com/)\n",
      "* **Edmunds:** [https://www.edmunds.com/](https://www.edmunds.com/)\n",
      "* **NADA Guides:** [https://www.nadaguides.com/](https://www.nadaguides.com/)\n",
      "\n",
      "These websites allow you to input the details of your desired car and receive a fair market value assessment.\n",
      "\n",
      "**Negotiation & Timing:**\n",
      "\n",
      "You're right, early summer is a good time to buy a used car, as dealerships often have inventory to clear out.  However, the market fluctuates.  Be prepared to negotiate and understand that a price below book value is possible, but you might need to be patient and search for a deal. \n",
      "\n",
      "**Tips for Finding a Deal:**\n",
      "\n",
      "* **Check Private Sellers:**  They often have more flexibility on price than dealerships.\n",
      "* **Negotiate Firmly:**  Be prepared to walk away if you're not happy with the price.\n",
      "* **Look for Cars With Issues:**  These might be discounted, but make sure you can afford the necessary repairs.\n",
      "\n",
      "**Remember:** The 1988-1989 Bonneville is a great car for its time. Be patient, do your research, and you should find a great deal on a classic American car! \n",
      "\n"
     ]
    }
   ],
   "source": [
    "response = client.models.generate_content(\n",
    "    model=\"gemini-1.5-flash-001\", contents=sample_row)\n",
    "print(response.text)"
   ]
  },
  {
   "cell_type": "markdown",
   "metadata": {},
   "source": [
    "You can use the prompt engineering techniques you have learned this week to induce the model to perform the desired task. Try some of your own ideas and see what is effective, or check out the following cells for different approaches. Note that they have different levels of effectiveness!"
   ]
  },
  {
   "cell_type": "code",
   "execution_count": 11,
   "metadata": {
    "execution": {
     "iopub.execute_input": "2025-04-02T07:50:05.256628Z",
     "iopub.status.busy": "2025-04-02T07:50:05.256079Z",
     "iopub.status.idle": "2025-04-02T07:50:06.077581Z",
     "shell.execute_reply": "2025-04-02T07:50:06.075933Z",
     "shell.execute_reply.started": "2025-04-02T07:50:05.256575Z"
    },
    "trusted": true
   },
   "outputs": [
    {
     "name": "stdout",
     "output_type": "stream",
     "text": [
      "Based on the content and language, this message most likely originates from the **rec.autos.buick** newsgroup. \n",
      "\n",
      "Here's why:\n",
      "\n",
      "* **Topic:** The message focuses specifically on Buick Bonnevilles from the 1988-1989 model years.\n",
      "* **Technical Details:**  The mention of trim levels (LE, SE, LSE, SSE, SSEI) and book value are common topics discussed in car-related newsgroups.\n",
      "* **Target Audience:** The message is aimed at individuals interested in Buick Bonnevilles, making it a good fit for a newsgroup dedicated to that brand.\n",
      "\n",
      "While it's impossible to be 100% certain without seeing the original message header, the context strongly suggests it's from **rec.autos.buick**. \n",
      "\n"
     ]
    }
   ],
   "source": [
    "# Ask the model directly in a zero-shot prompt.\n",
    "\n",
    "prompt = \"From what newsgroup does the following message originate?\"\n",
    "baseline_response = client.models.generate_content(\n",
    "    model=\"gemini-1.5-flash-001\",\n",
    "    contents=[prompt, sample_row])\n",
    "print(baseline_response.text)"
   ]
  },
  {
   "cell_type": "markdown",
   "metadata": {},
   "source": [
    "This technique still produces quite a verbose response. You could try and parse out the relevant text, or refine the prompt even further."
   ]
  },
  {
   "cell_type": "code",
   "execution_count": 12,
   "metadata": {
    "execution": {
     "iopub.execute_input": "2025-04-02T07:50:19.474737Z",
     "iopub.status.busy": "2025-04-02T07:50:19.474289Z",
     "iopub.status.idle": "2025-04-02T07:50:20.185012Z",
     "shell.execute_reply": "2025-04-02T07:50:20.183642Z",
     "shell.execute_reply.started": "2025-04-02T07:50:19.474696Z"
    },
    "trusted": true
   },
   "outputs": [
    {
     "name": "stdout",
     "output_type": "stream",
     "text": [
      "rec.autos.misc\n",
      "\n",
      "Incorrect.\n"
     ]
    }
   ],
   "source": [
    "from google.api_core import retry\n",
    "\n",
    "# You can use a system instruction to do more direct prompting, and get a\n",
    "# more succinct answer.\n",
    "\n",
    "system_instruct = \"\"\"\n",
    "You are a classification service. You will be passed input that represents\n",
    "a newsgroup post and you must respond with the newsgroup from which the post\n",
    "originates.\n",
    "\"\"\"\n",
    "\n",
    "# Define a helper to retry when per-minute quota is reached.\n",
    "is_retriable = lambda e: (isinstance(e, genai.errors.APIError) and e.code in {429, 503})\n",
    "\n",
    "# If you want to evaluate your own technique, replace this body of this function\n",
    "# with your model, prompt and other code and return the predicted answer.\n",
    "@retry.Retry(predicate=is_retriable)\n",
    "def predict_label(post: str) -> str:\n",
    "    response = client.models.generate_content(\n",
    "        model=\"gemini-1.5-flash-001\",\n",
    "        config=types.GenerateContentConfig(\n",
    "            system_instruction=system_instruct),\n",
    "        contents=post)\n",
    "\n",
    "    rc = response.candidates[0]\n",
    "\n",
    "    # Any errors, filters, recitation, etc we can mark as a general error\n",
    "    if rc.finish_reason.name != \"STOP\":\n",
    "        return \"(error)\"\n",
    "    else:\n",
    "        # Clean up the response.\n",
    "        return response.text.strip()\n",
    "\n",
    "\n",
    "prediction = predict_label(sample_row)\n",
    "\n",
    "print(prediction)\n",
    "print()\n",
    "print(\"Correct!\" if prediction == sample_label else \"Incorrect.\")"
   ]
  },
  {
   "cell_type": "markdown",
   "metadata": {},
   "source": [
    "Now run a short evaluation using the function defined above. The test set is further sampled to ensure the experiment runs smoothly on the API's free tier. In practice you would evaluate over the whole set."
   ]
  },
  {
   "cell_type": "code",
   "execution_count": 13,
   "metadata": {
    "execution": {
     "iopub.execute_input": "2025-04-02T07:50:36.205338Z",
     "iopub.status.busy": "2025-04-02T07:50:36.20491Z",
     "iopub.status.idle": "2025-04-02T07:51:06.125368Z",
     "shell.execute_reply": "2025-04-02T07:51:06.124235Z",
     "shell.execute_reply.started": "2025-04-02T07:50:36.205304Z"
    },
    "trusted": true
   },
   "outputs": [
    {
     "data": {
      "application/vnd.jupyter.widget-view+json": {
       "model_id": "249c97e6d47f48d1bb74746468f15f35",
       "version_major": 2,
       "version_minor": 0
      },
      "text/plain": [
       "Output()"
      ]
     },
     "metadata": {},
     "output_type": "display_data"
    },
    {
     "data": {
      "text/html": [
       "<pre style=\"white-space:pre;overflow-x:auto;line-height:normal;font-family:Menlo,'DejaVu Sans Mono',consolas,'Courier New',monospace\"></pre>\n"
      ],
      "text/plain": []
     },
     "metadata": {},
     "output_type": "display_data"
    },
    {
     "name": "stdout",
     "output_type": "stream",
     "text": [
      "Accuracy: 31.25%\n"
     ]
    }
   ],
   "source": [
    "import tqdm\n",
    "from tqdm.rich import tqdm as tqdmr\n",
    "import warnings\n",
    "\n",
    "# Enable tqdm features on Pandas.\n",
    "tqdmr.pandas()\n",
    "\n",
    "# But suppress the experimental warning\n",
    "warnings.filterwarnings(\"ignore\", category=tqdm.TqdmExperimentalWarning)\n",
    "\n",
    "\n",
    "# Further sample the test data to be mindful of the free-tier quota.\n",
    "df_baseline_eval = sample_data(df_test, 2, '.*')\n",
    "\n",
    "# Make predictions using the sampled data.\n",
    "df_baseline_eval['Prediction'] = df_baseline_eval['Text'].progress_apply(predict_label)\n",
    "\n",
    "# And calculate the accuracy.\n",
    "accuracy = (df_baseline_eval[\"Class Name\"] == df_baseline_eval[\"Prediction\"]).sum() / len(df_baseline_eval)\n",
    "print(f\"Accuracy: {accuracy:.2%}\")"
   ]
  },
  {
   "cell_type": "markdown",
   "metadata": {},
   "source": [
    "Now take a look at the dataframe to compare the predictions with the labels."
   ]
  },
  {
   "cell_type": "code",
   "execution_count": 14,
   "metadata": {
    "execution": {
     "iopub.execute_input": "2025-04-02T07:51:06.130826Z",
     "iopub.status.busy": "2025-04-02T07:51:06.13034Z",
     "iopub.status.idle": "2025-04-02T07:51:06.144977Z",
     "shell.execute_reply": "2025-04-02T07:51:06.143833Z",
     "shell.execute_reply.started": "2025-04-02T07:51:06.130772Z"
    },
    "trusted": true
   },
   "outputs": [
    {
     "data": {
      "application/vnd.microsoft.datawrangler.viewer.v0+json": {
       "columns": [
        {
         "name": "index",
         "rawType": "int64",
         "type": "integer"
        },
        {
         "name": "Text",
         "rawType": "object",
         "type": "string"
        },
        {
         "name": "Label",
         "rawType": "int64",
         "type": "integer"
        },
        {
         "name": "Class Name",
         "rawType": "category",
         "type": "unknown"
        },
        {
         "name": "Prediction",
         "rawType": "object",
         "type": "string"
        }
       ],
       "conversionMethod": "pd.DataFrame",
       "ref": "f879b047-6ce2-4fba-a45d-5c96fea7857a",
       "rows": [
        [
         "0",
         "REVIEW: 1989 Ford Taurus SHO\n\nReview of 1989 Ford Taurus SHO -- By Gene Kim\n=============================================\n\nBackground:\n\n    Last week, I bought a 1989 Ford Taurus SHO, moving up from driving\na 1987 Toyota Celica ST and a 1975 Oldsmobile Cutlass.  I have been\ninterested in buying a SHO for about five months and have been combing\nthe classifieds in Denver and Chicago every week.  I bought a\nremarkably clean maroon/red SHO with 92K miles on it for $6800.\nAs far as I can tell, this is about $2000 under Blue Book and I still\nhave another 8000 miles before the Extended Service Plan runs out.\n\n    As one should with any pre-1991 SHOs, I made sure that the car was\nalready refit with the upgraded clutch and pressure plate, as well as\nhaving been recalled for upgraded rotors and seatbelt attachments.\nHowever, my SHO does not have the newer rod shifter -- I understand I\ncan get this for $230 from any Ford service center.  In addition, the\ncar received the full tune-up at 60K miles, receiving new platinum\nplugs and valve adjustment.\n\n    For a car with 92K miles on it, the car was virtually immaculate.\nThe clearcoat paint job was devoid of any large chips or dents,\nalthough the front air-dam/molding was covered with lots of small\nscratches -- not surprising since most of the miles were spent on the\nhighway.\n\n    Having driven a smaller two-door coupe for so long, I was a bit\nconcerned about whether I could get used to driving a larger car.  To\nmy surprise, the size of the car doesn't bother me at all -- it seems\njust as nimble as my Celica!  (No comparisons with my Oldsmobile.  :-)\nVisibility from the driver's seat is excellent, helped mostly by of\nthe small the quarter-windows, aft of the back-seat door windows and\nin front of the C-pillar and rear window.  Parallel parking is a bit\nmore difficult, but other than that, I love the size.\n\n    In fact, I'm starting to appreciate the large trunk as I pack up\nfor a 14-hour drive to Washington, DC for the summer.  More on the\nride later in this review.\n\n\nEngine:\n    \n    As with anyone even slightly interested in SHOs, I was very\ninterested in the 24-valve 3.0L Yamaha \"Shogun\" engine.  I was not\ndisappointed.  Base performance of the engine under 4000 rpms is\ngood.  You can even do reasonable launches from second gear, although\nI don't make a practice of this.  The engine revs smoothly and eagerly\n-- tooling around town does not require many shifts.  This is good\nsince the shifter is definitely one of the weakest points of the car.\n(More on this later.)\n\n    While the performance of the engine under 4000 rpms may be\nunremarkable, it undergoes a Jekyll/Hyde transformation once you hit\nhigher revs.  At 4500 rpms, a butterfly valve opens and you can\nliterally hear and feel the geometry of the engine changing as twelve\nmore valves open up.  The engine soars to its 7000 rpm redline, and\nyou are treated to, in my opinion, the sweetest sounding V6 around.\nThe engine inexplicably sounds OVERJOYED to be at 6500 rpm!\n\n    I've noticed that when I drive around town, I constantly watch the\ntach to see how far below 4000 rpm I am.  To go from 2000 rpm to 4000,\nyou may have to punch the accelerator -- while torque is more than\nadequate, it doesn't come fully online until those other 12 valves\nare used.\n\n\nTransmission:\n\n    When _Car and Driver_ first reviewed the car in 1988, they\nmarvelled at how Ford had put such a wimpy clutch and balky shifter\ninto the car.  I remember driving a friend's parent's SHO in 1990, and\nremember thinking about whether I had the leg strength to drive the\ncar in traffic -- the clutch was that stiff.  That was back then.\n\n    The entire clutch assembly on my SHO has been replaced under a\nFord recall in 1991.  The clutch on the SHO feels no stiffer than the\none on my Toyota Celica.  In fact, the friction point seems a bit\nlarger and more forgiving.\n\n    When playing with the shifter with the car parked, the shifter\nfelt very reasonable.  The 1-2 and 3-4 gates were where you'd expect\nit to be, and the shifting action was smooth.  On the road, it's\nmuch the same -- but you have to shift SLOWLY!  Make no mistake, it's\na clumsy shifter.\n\n    When hurrying shifts, like when I was initially trying to impress\nfriends, I consistently miss the 1-2 shift, often grope clumsily for\nthe 2-3 shift, and sometimes even muff the 3-4 shift.  I find this\npretty amazing in a car like this.\n\n    It also took me several days to realize that you get the smoothest\nshifts when you take your time.  Seems obvious, but compared to my\nToyota and my friend's Honda, this seems atrocious and clumsy.\nSomeone on rec.autos noted that CRXs should blow SHOs off-the-line\nbecause of the incredibly clumsy shifter.\n\n    I now shift much more sedately, and the shifter seems more\nreasonable.  When you play within these bounds, the shifter works\nsmoothly with no surprises.  I don't know whether the rod shifter\nupgrade would help at all.\n\n    Along these same lines, I initially had trouble shifting gears\nsmoothly.  Again, slowing down the shifts and taking more care to\nmatch revs when letting out the clutch helped immensely.  This took\nseveral days for me to get the hang of.  (I think some of my problems\nwere because I've never had a car with enough power to balk at bad\nshifts in higher gears.)\n\n    Occasionally, I have trouble shifting into reverse.  The shifter\nrefuses to enter the gate, and I often grind the synchros trying to \nget it into gear.  I'll be watching this carefully in the next couple\nof months.\n\n    A quirk:  When I upshift and the engine drops back to 1000-2500\nrpm, I hear a whirring and then a grinding noise coming from the the\nengine compartment.  Not terribly loud, but the passenger can\ndefinitely hear it.  I asked about it when I was looking at the car,\nas do all my passengers.  Apparently, this is a definitely a \"SHO\nsound\" and is the gearbox -- apparently called \"gear rollover\".\nReplies to my queries on rec.autos are at the end of this review.\n\n\nExterior:\n\n    As I mentioned before, I am astounded by how well the body of this\nSHO has stood up.  Paint chipping on the front bumper and grille are\nvirtually non-existent.  Looking at how older Tauri sometimes\ndon't age so gracefully, I wonder what the guys at Ford did\ndifferently to the SHO bodies.\n\n    The body, in my opinion, is extremely attractive with matching\ncolor body moldings than the stock Tauri.  For some odd reason, the\nSHO seems different enough from vanilla Tauri to get stares at\nstoplights -- of course, this could be my overactive imagination.\n:-)  SHOs get fog lights, a more open grille, a completely\nmonochromatic exterior, and a deeper ground skirt in the back with\n\"SHO\" stenciled in relief.  I've seen a couple SHOs whose owners have\ncolored these in with florescent colors or in black.  Yuck.\n\n    I don't think the car is flashy.  I like it that way.  I feel\nalmost anonymous with all those Tauri out there, but different and\ndistinctive enough to those of us who care.  :-)\n\n\nInterior:\n\n    The interior is what really makes me feel like I don't deserve the\ncar.  The seats are grey leather, the steering wheel and shifter are\ncovered with black leather, and the entire instrument panel is done in\na black/grey/metallic scheme.  \n\n    The instrumentation is stock Taurus, except for the 140 mph speedo\nand 8000 rpm tach.  You get a center console with two cupholders, a\nlarge compartment under the radio (great for a CD player), an armrest\nthat contains yet another compartment, three appropriately sized coin\nholders for tollways (I think), and a compartment for holding\ncassette tapes.  There's map-holders in the doors, and an oddly small\nglove compartment.\n\n    I spilled a whole can of Coke in the cupholder and was delighted\nto find that the entire rubber holder can be removed and washed in a\nsink.  Hey, I'm really impressed with the ergonomics and\nthoughtfulness that went into its design.  And it's a 1989, before the\ninterior was upgraded!\n\n    The backseat is bigger than any car I've had.  Why do they need so\nmuch space?  :-)  (No smart-ass comments, please.  :-)\n\n    The driver and passenger seat have lumbar and side bolsters.  From\nwhat I hear, it's not uncommon for the side bolsters to show wear.\nMine is no exception.  The left side bolster on the driver's has\ncracked and I'm not convinced the right bolster is inflating all the\nway.\n\n    A big surprise for me:  I forgot that SHOs don't have a normal\nhand parking brake.  Instead, they have the regular parking brake that\nyou press with your left foot.  Too bad.  Again, I'm getting used to\nit, but it seems a bit anachronistic to me.\n\n\nRide:\n\n    The suspension is nice and stiff.  Too stiff?  It's stiffer than\nany car I've had.  A friend's new 1993 Toyota Celica ST seems tauter\nand is still able to soak up bumps better.  The SHO seems stiffer with\nless ability to soak up bumps.  Driving over railroad tracks is a\nnoisy and jarring affair.  On the other hand, taking turns feels\nwonderful because the body is so rigid and doesn't flex at all -- I\nlistened for that before I bought the car.\n\n    On the highway, the ride is great.  When I drove the car from\nChicago back to Purdue, I had trouble keeping under 85 mph, let alone\nfrom trying to see what 100 mph really feels like.  It's a relatively\nquiet ride, but the sunroof rattles.  I've tried to find out what\nexactly makes all the noise up there, but it seems to be the window\nthat rests on the rails.  No easy way to get rid of it, I think.\n\n    Over the past three days, I've oscillated between thinking the\nsuspension is wonderful and perfect and thinking that the ride is way\ntoo rough.  (Not for me, mind you.  But I wonder whether I would\nadvise my dad to buy one for himself.)  But, I've discovered, as with\nthe shifter, if you take your time with shifts, you'll have no reason\nto complain.  Let me explain...\n\n    The ride is worst when turning and applying lots of power to the\nwheels.  I feel the wheels scrabbling for traction and torque steer\nmaking the car skitter left and right.  After I understood this, I\navoid the limits of traction -- and I'm a happy camper again.\n\n    It's not body rigidity, but the composure of the car.\n\n    As if matching the suspension, the steering feel is quite heavy.\nMy first impression of driving my SHO was how hard you had to turn the\nwheel at highway speeds.  It tracks straight as an arrow, but when\ndriving around a parking lot, the high-effort steering didn't seem so\nuseful.  However, it's reasonable, but it doesn't communicate the road\nto the driver as well as a 1993 Ford Probe GT.  IMHO, it's much better\nthan the steering on my Celica ST.\n\n    I wonder how bad this car is during winter?\n\n\nMiscellaneous notes:\n\n    GRIPES:\n\n    The rattles from the sunroof is intermittent -- some days it rattles\n        loudly, other days I look up wondering where all the noise went.\n\n    Activating the sunroof is sometimes very noisy -- loud squealing as\n\tit retracts on its rails.  I wonder if there is a quick fix for this.\n\tAgain, other days it completely disappears.  (Function of humidity?)\n\n    Once I made the connection between the sometimes awful feeling suspension\n\tand torque steer, I've never complained about ride.\n\n    I wish the seats had more support under the thighs.  Also, I wish the\n\tside bolsters would close more tightly.  \n\n    I hear that tires for this car can get really expensive.  I\n\tcurrently have Goodyear GT+4s that cost the previous owner $500\n\tfor four.\n\n    I used to hate the Ford stereo systems -- whose idea was it\n\tto use a volume *paddle*?  Now, to my amazement, I don't\n\treally mind...  and sometimes think it's an okay idea!!!\n\tPretty ridiculous, though.\n\n    Getting up to 4000 rpm sometimes seems to be a chore.  But,\n\tthis is no big deal.  There is more than enough torque\n\tdown low.\n\n    I often goof up the shifting when driving with friends.  It\n\ttook me a couple of days before I could really shift\n\tsmoothly from 2nd to 3rd gear.  (Hard to believe, isn't it?)\n\n    My car has almost 93,000 miles on it.  My parents noted that\n\tit is almost impossible to find a low-mileage SHO. \n\tAstute observation, IMHO.  I wonder how long I can make\n\tmy SHO last -- I just bought a book titled \"Drive It Forever\"\n\tfor tips in this department.  :-)\n\n    The goofy parking brake pedal still throws me for a loop.  I once\n\tparked the car in gear, and then accidentally let out the clutch\n\tafter I started it.  The car jolted forward, and bounced off\n\tthe car in front of me -- no paint damage at all, but starting the car \n\tis a whole new ritual for me with that fangled pedal!  Also, I began \n\tto wonder how strong that brake really is.  (Today, I backed out of \n\tparking spot today and started to drive away before I noticed \n\tthe glowing brake light.  Oops.)\n\n    The driver's power window creaks when closed all the way.  The same\n    \tthing happens in my parents 1989 Mercury Sable.  Oddly, all the\n\tother windows work smoothly.\n\n\n    LIKES:\n\n    I'm liking the interior amenities more and more each day.  The\n    \tcupholders are great.\n\n    I didn't expect to use the keyless entry buttons so much, but\n\tit really is handy.  You can lock all the doors by\n\tpressing the 7/8 and 9/10 buttons together!  Neat!  And\n\tyou can never lock yourself out of the car.\n\n    I really feel like I don't deserve this car.  I really can't\n\tbelieve that I could afford it.  I got this car ten years \n\tahead of schedule.  :-)\n\n    I love this car so much that I've been telling my parents to\n\tlook into buying one.  I love this car so much that I\n\twrote this 13K file -- I meant to write a couple of lines\n\tand ended up with this.  \n\n    If there were a J.D. Powers Survey for used car owners, I would have\n\tan opportunity to express my incredible satisfaction of owning this \n\tcar.  I don't like thinking about getting another car, but at this\n\tpoint in time, I'm sure I'd buy another SHO.  For under $7000, you\n\tcan't beat it.  (Next time with an airbag and ABS, though.)\n\n    Insurance-wise, this car is also a big win.  I pay the same premiums\n\tas on my 1987 Toyota Celica -- despite that it has nearly twice\n\tthe horsepower.  \n\n\n\nOther Odds and Ends:\n\n    Much to my amazement, there is no SHO mailing list anywhere.\nMaybe because the _SHO Registry_ publication has filled this void.  I\nhaven't joined yet, but I've noticed that queries about SHOs still\nappear on rec.autos about once a month.  Owners of SHOs are always\nquick to respond, and are very vocal fans of the cars.  (Maybe some\nof the most vocal on rec.autos.  :-)\n\n    I've put together the responses to my questions about the cars, as\nwell as other posts with useful information on these cars.  I'll be \nposting this in the form of a FAQ soon.  \n\n    If anyone is interested in starting a mailing list, please speak up!\nI don't know if I have the resources here at Purdue to start one, but \nmaybe someone out there does.\n\n\nGene Kim\n()\n\n\n",
         "7",
         "rec.autos",
         "rec.autos"
        ],
        [
         "1",
         "2 Camrys eating clutch master cyls?\n\nI have both an '84 and an '86 Camry, each with manual 5-speed transmissions.\nThe '84 has about 105,000 miles on it and the '86 about 83,000 miles.  ABout\na year ago I found that the master cylinder on the clutch in the '84 was        \nleaking fluid around the piston seal, leading to air in the system and fluid\nback into the passenger compartment of the car.  I pulled the plunger and\ngot a rebuild kit (new plunger, seal, etc.) and thought I had the problem\nlicked.  Much to my surprise, the same problem developed several months\nlater!  This time I looked carefully at the master cylinder to make sure\nthere were no scratches, burrs, or other obvious causes of the problem.  I\ndidn't find any.  Ever since I have been periodically feeding the clutch\nhydraulins additional fluid and bleeding air from the system.  I knew I\nwould be selling the car and didn't want to go all the way to solving the\nproblem.\n\nI should add that the clutch is original, and that I've had to adjust the\npedal to allow maximum extension of the piston into the master cylinder in\norder to actuate the clutch.\n\nMy hypothesis is that this means that when fully depressing the clutch pedal,\nthe angle of the piston rod (attached to the pedal) is off the axix of the\ncylinder, thus cocking the piston and seal and perhaps deforming it.\n\nWhat do you think of that as an explanation?  Can you suggest a possible fix\nshort of replacing the master cylinder and getting a new clutch put in?\n\nNow the '86: same problem, except that the above diagnosis doesn't explain\nwhy all of the fluid leaked out (by way of the master cylinder, into the\npassenger compartment) while I was on vacation for 10 days, during which\nthe clutch pedal was not depressed or otherwise caused to distort.  What\ncan you suggest here?\n\nMany thanks.  Let's hope I don't end up going to Click and Clack on this...\n\nBill Christens-Barry\n\n\n",
         "7",
         "rec.autos",
         "rec.autos.toyota"
        ],
        [
         "2",
         "Re: Type spesifications (CB, VFR, GT, etc.)\n\nIn article <1r1v6k$>  (Michael Robinson) writes:\n>In article <>  (Curtis Jackson) writes:\n>>In article <>  (Frank Ball) writes:\n>>>Honda:  a \"V\" designates a V engine street bike. \"VF\" for V-4,\n>>>\"VT\" for V-twin.\n>>So how about my Honda Hawk (NT 650)? It's a twin, but not called a VT.\n\t\t\t      ^^\n\t\t\t      ||\n\t\t           New Technology\n\n>Yeah, and what about my Honda CX500 (also a V-twin, but in the other\n>direction)?\t\t       ^^\n\t\t\t       || \n\t\t\t  Cycle eXperimental\n\t\t\t   \n\nGot this from a mechanic at Al Lamb's Honda!\n\nAT\n\n                                  \\|/\n                                #######\n                              / ~     ~ \\\n                              |[0]---[0] |\n   ===============================| |===================================\n  _|___                           |_|        1991 CBR600F2          ___|_\n (_____) Allen Tobias           Technical    email:                (_____)\n (_____) Convex Computer Corp.  Marketing         (_____)\n (_____) 3000 Waterview Parkway                                    (_____)\n (___)   Richardson, TX 75083                \t\t\t     (___)\n   =====================================================================\n     \"This bike is awesome and I'm fearless. Let's go.\"--Jay Gleason\n\n",
         "8",
         "rec.motorcycles",
         "rec.motorcycles"
        ],
        [
         "3",
         "Re: Why I wanted police officers to answer my posting\n\nIn article <>  (Dan Sorenson) writes:\n>\n>\tHOW TO GET A VERBAL WARNING FOR 146 IN A 55\n>\n\nPoppy cock!  This story is obviously a complete fabrication, and I'll show\nyou why...\n\n>\tIn Ames, there is a road that leads to the little town of\n           ^^^^\nThis establishes that the story takes place in Iowa.\n>Gilbert.  Gilbert has one stop light, if that tells you something.\n>Having just gotten the bike back together, I thought I'd take it\n>for a short ride and check things out.  Heading out of town, I\n>went into the twisties at a slow pace, just under the speed limit,\n               ^^^^^^^^\nIn Iowa?!?!?  Come on now Dan, how dumb do you think we are?  You could\nhave at least thrown in a llama or tennis ball reference.  Hell, you\ndidn't even get the speed right.\n\nDean\n\nps. :-)\n\n-- \n| Dean Cookson /  / 617 271-2714    | DoD #207  AMA #573534 |\n| The MITRE Corp. Burlington Rd., Bedford, Ma. 01730  | KotNML  /  KotB       |\n| \"The road is my shepherd and I shall not stop\"      | '92 VFR750F           |\n| -Sam Eliott, Road Hogs MTV 1993                     | '88 Bianchi Limited   |\n",
         "8",
         "rec.motorcycles",
         "rec.motorcycles"
        ],
        [
         "4",
         "Phils winning the hard way\n\n\nThe Phillies have won two games back to back in extra innings.  Last\nnight's game was hard fought.  The game in Chicago should have been a\nblow out.  All in all these two games show a different Phillies team.\nIn past seasons they tended to always be on the short end of 1 run\ngames.  I don't know how many times I saw them losing by only 1 run.\nIf they were able to win most of those, they might have been more of\na contending team.  They are 3-0 so far in extra innings.  And of\ncourse, they are 10-3.\n",
         "9",
         "rec.sport.baseball",
         "rec.sport.baseball"
        ],
        [
         "5",
         "Re: Apology for Article\n\nIn article <>, Steven Thornton writes:\n\n> In article <> \n> writes:\n\n> Just watch me. Mattingly is a below average fielder. \n\n> Before you start up, yes, I have proof. There are really only two\n> adequate ways to measure fielding prowess. the first, which has the\n> advantage of being applicable to older players, since it uses raw data\n> available for almost all of MLB history, is the Total Chances per Game\n> method favored by the Total Baseball people among others. It basically\n> says that you measure a fielder by how many balls he gets to. \n\nBut it is subject to all kinds of bias, and is almost completely useless\nfor first basemen.  From the raw stats, there is no way to tell which of\na first baseman's putouts were made on throws from other fielders, and\nwhich were made on his own plays; likewise, you can't tell whether a\ndouble play was 6-4-3 or 3-6-3.  Fielding Runs thus gives a first\nbaseman no credit for putouts or double plays, only for assists and\nerrors.  \n\nIt thus favors first basemen who play deep, reaching a lot of balls but\nforcing the pitcher to cover first more frequently.  It also hurts first\nbaseman who play behind left-handed pitching staffs and thus face few\nleft-handed batters.\n\n> A better method, but newer and based ondata that has only been collected\n> over the last few years, measures the percentage of balls hit into the\n> part of the field the guy is responsible for. \n\nThis is better; of course, it still isn't all of a first baseman's\ndefense.\n\n> Some references: Mattingly's 1992 defensive rating, STATS method, from\n> Mike Gimbel's Baseball Player and Team Ratings: -1.\n\nDefensive Average, which uses larger (and probably better) zones, has\nMattingly tied for second in the league.\n\n> On the other hand, he has contributed 233 runs by his batting\n> actions, a pretty healthy number. \n\nWhile 233 batting runs is good, it is mostly in the past; the runs he\nproduced in 1986 don't say much about his value in 1993.  \n\n--\nDavid Grabiner, \n\"We are sorry, but the number you have dialed is imaginary.\"\n\"Please rotate your phone 90 degrees and try again.\"\nDisclaimer: I speak for no one and no one speaks for me.\n",
         "9",
         "rec.sport.baseball",
         "rec.sports.baseball"
        ],
        [
         "6",
         "Re: Where's Roger?\n\nduncan@\b\b (Nicholas Duncan) writes:\n\n>I really feel the need for a knowledgable hockey observer to explain\n>this year's playoffs to me. I mean, the obviously superior Toronto team\n>with the best center and the best goalie in the league keeps losing.\n>What gives?\n\nUnfortunately, Roger is now over at r.s.baseball spewing his expertise\n(i.e. being a dickhead).  I guess he is afraid of posting anything\nhere, because he knows what to expect.\n-- \nJohn Franjione\nDepartment of Chemical Engineering\nUniversity of Colorado, Boulder\n\n",
         "10",
         "rec.sport.hockey",
         "rec.sports.hockey"
        ],
        [
         "7",
         "Pierre Turgeon a stud!\n\nBeing a a BLUES fan I don't get to see much else from around the league\nwith the exception of Hockey Night on ESPN.  I can't get the BLUES games\nwhere I go to school, thus I don't get to see a whole lot of other teams\nplay except for the Hawks.  But last night I got to catch a glimpse of\nthe Caps/Isles game.  It occurred to me that Turgeon is a stud on skates.\nHis moves are quick and brilliant.  You NY fans should be proud.\nP.S. Who won the game (Caps/Isles)?\n \nPeace,\nHammer\n \n",
         "10",
         "rec.sport.hockey",
         "rec.sport.hockey"
        ],
        [
         "8",
         "Re: Overreacting (was Re: Once tapped, your code is no good any more)\n\nIn article <>  (Jerry Han) writes:\n\n>   In this giant bally-ho over this Clipper chip I noticed a rather\n>   disturbing trend in some of the E-mail and posts I've tossing back and\n>   forth.  \n\nMe too. A tendency on the part of some people to hide their head in\nthe sand.\n\n>   The reason is very simple:  How many people do you want to die in a riot? \n>   In a new Civil War? \n\nHow many people do you want jailed for their convictions, for their\ninsistence on real privacy? Why sit by quietly while the preconditions\nfor a real civil war are put in place by a short-sighted government.\n\n>   Everybody is jumping up and down and screaming about it, and I'm worried\n>   that people are going to reach for their hammers and rifles before their pens\n>   and paper.  \n\nThe terminal is mightier than the pen :)\n\n>   Can people work within the system before trying to break it?  Examine your\n>   history books, and find out how many armed revolutions led to Democratic\n>   (or Democratic style) governments.  I think you'll only find one in over\n>   five thousand years of written history.\n\nReally? I guess you mean the U.S. revolution. How about England,\nIndia, Mexico, France, Holland....\n\n>   That's not very good odds.  \n\nYou are misinformed. But this whole issue is off the topic.\n\n>   Somebody once said something like: \"Armed Violence is meant only to be\n>   used in response to an armed attack.  It is not meant to be used in\n>   agression.  This is the difference between self-defence and murder.\"\n\nWhen the cops kick in your door for using PGP, tell them that. All\nwe're doing here is exercising our (so-called, rapidly narrowing)\nright to free speech. \n\n>   I'm probably overreacting.  But what I've read scared me a lot.  I don't\n>   want my children growing up in a War Zone.\n\nPerhaps you should talk to the government about that. Or are you a\ndisciple of David \"The cops are our FRIENDS\" Sternlight?\n\nThe implied threat of the illegalization of private crypto, the\nnot-so-subtle subtext of the clipper announcement, is what worries me.\nI don't want my children growing up in a police state.\n\n-Rens\n\n**Disclaimer: all opinions herein are mine and mine alone, and do not\n              necessarily represent those of any organization with\n              which I may be affiliated.\n--\n  o===============================================================o\n  | J. Laurens Troost - UNIX Systems  | At Work:     |\n  | Investment Management Svcs, Inc.  | At Play:  |\n  | 12 East 49th Street,  35th floor  |   Phone: (212) 339-2823   |\n  | New York, New York         10017  |     Fax: (212) 444-1980   |\n  o===============================================================o\n     -- IMS is unlikely to share any of the above opinions --\n",
         "11",
         "sci.crypt",
         "alt.politics.crypto"
        ],
        [
         "9",
         "Re: Clipper chip\n\nIn article <>,  writes:\n|>          Is it realistic for the government to try to keep the details\n|> of the encrytion algorithm secret if it intends to use evidence from...\n|>                           James B. Shearer\n\nI do not think they can use the eavesdropping as evidence at all. However,\nusing the info they gather while listening, they can go searching THE right\nplace and find good, strong evidence, which they can use in court. \n\nQuestion : currently, it is easy to wire-tap, from the technical point of\nview, at least. Anybody using the appropriate radio receiver can listen\nto communications between a car-telephone and the ground station. The police\nalso, obviously. The clipper chip will make it much more difficult for the\nnon-authorized person to eavesdrop (note that I DO NOT write << impossible>> ).\nThe privacy will thus improve from the current situation. Poeple who REALLY\nhave something to hide already DO NOT use the phone to speak of these things.\nIf an illegal operation is really worth, one can afford having critical data\ncarried by a person rather than sending it electronically. \nThe clipper chip will not change this. \n\nThe problem is more politic. Foreign countries will never accept the clipper\nchip is the access to the escrow cannot be directly granted to their own\npolice following their OWN law, not the US law. i.e. each country will have\nits own escrow. How then will it be possible to monitor the international\ntraffic? or, will encrypted international traffic be possible ? or will there\nbe an international escrow, some kind of U.N. thing ?\n\nForbidding crypted communication is impractical: how is it possible to spot\na crypted communication in the thousands of megabytes of data which circulate\non the various existing networks. What about private networks ? And this will\nbe more and more impossible as the volume of electronic traffic will increrase\nin the next years.\n\nI think that the clipper chip can only be an interesting device to limit the\nrisk of , for instance, one's girlfriend's husband listening to his wife's\ncommunications. It will bring no more as regards to security. Is it worth ?\nI think so if its cost is limited, I think that many privacy invasions are done\nnot only by official services, but also by private entities. The clipper can\nhelp reducing these. Provided we do not hope too much of it, it is not a real\ndanger and it can be helpful.\n\nPh. HOOGVORST\n",
         "11",
         "sci.crypt",
         "(error)"
        ],
        [
         "10",
         "Packet Radio on the PC\n\nI'm looking for any and all information regarding packet radio\nimplementation on the PC.  Software, hardware, whatever.\n\nPlease e-mail any info to \n\nThanks\n",
         "12",
         "sci.electronics",
         "rec.radio.amateur.packet"
        ],
        [
         "11",
         "Re: ATARI 2600 Processors\n\n (Ian Farquhar) writes:\n\n>In article <>  (Shishin Yamada) writes:\n>>The Atari 2600 used a 6502 CPU, just like their entire 8-bit line\n>>(400, 800,1200,1400, 1440, 130xe, 65xe computers, as well as the 5200\n>>game machine). \n\n>Wrong, it has a 6507.\n\nFor those who would like to know, the 6507 was a 6502 without IRQ or NMI,\nand with only 13 address lines (giving 8K memory space).\n\n>It had one custome chip (not an ASIC in the sense that word is now understood):\n>the TIA (sometimes known as the 6526, although most other manufacturers list\n>that as the CIA complex interface adapter.)  TIA stands for Television\n>Interface Adapter, and it handles sound, paddles and the minimal video hardware\n>the 2600 possessed.\n\nDidn't know about it being called the 6526 - thats the CIA found in the\nCommodore 64 (I don't believe this chip existed when the 2600 was around).\nThe TIA was mapped into the bottom 128 bytes of page 0, and shadowed in the\nbottom 128 bytes of page 1. To get an image on the screen, you had to wait\nuntil the raster line your picture started at, load bitmaps for this line\ninto the 'sprite' registers, tell them what x positions to take, how many\nduplicates you wanted, etc, then do it all again for the next line. This\ntook all of the processor's time during the visible portion of the\ndisplay.\n\n>There was also a standard 6532 RAM, I/O, Timer (RIOT), plus a voltage\n>regulator and (if memory serves) a 555 timer.  That's all.\n\nThe RAM was mapped into the top 128 bytes of page 0, and shadowed in page\n1. The 6502 has a zero-page addressing mode on most instructions that is\nboth shorter and faster than the normal ones, so it is important on a\nmachine like this to have the scratchpad RAM in page 0. Unfortunately, it\nalso wants its stack to be in page 1 (the stack pointer is 8 bits, and the\nhigh byte of the address is hardwired to 1).\n\nThe IOT section was mapped into page 2 somewhere. 2 8 bit I/O registers\n(can't remember if each bit could be independantly set to I or O like the\n6522 and 6526), and 1(?) 8(?) bit timer with a programmable prescaler (I\nthink this was some power of 2). There were no interrupts in the system, so\nmany games would set up the timer at some known time, go away and do\nsomething else for a while, then sit and wait for the timer to run down.\n\nThere was no logic in the box to do address decoding - the RIOT had at\nleast 2 chip select pins (probably one active high, one active low), and I\nimagine the TIA was much the same. Various address lines were fed directly\nto chip selects. The 6507 likes to have ROM right at the top of memory, so\nthe 2600 had to use ROMs with active high chip selects - not exactly\nnormal, so some cartriges had a 7404 in them to convert this to the more\nusual active low chip select.\n\nJohn West\n",
         "12",
         "sci.electronics",
         "comp.sys.atari.st"
        ],
        [
         "12",
         "Re: re:use of haldol and the elderly\n\nIn article <> PICL account_25,\n writes:\n>adults.  The change in environment can cause problems.  Anesthetic\nagents\n>can cause confusion because the body cannot clear the medicines out\nof\n>the body as easily.\n\nThe original poster did not say why his mother had been in hospital\nbut I can answer a few general points.\n\nElderly patients may exhibit a marked difficulty in coping after\nbeing in hospital for a few days. The drastic change of environment\nwill often unmask how marginally they have been coping at home. Even\nyoung people find the change unsettling.\n\nThough we have thought that this decrement in function after - say -\nanaesthesia and surgery for a fractured hip (a common event in the\nelderly) was due to anaesthesia there is good evidence that the\nchange of situation is much more important. Some hospitals have\ntried a 'rapid transit' system for hip fractures, aiming to have the\npatient back at home within 24 hours of admission. The selection of\nthe anaesthetic has no effect on the ability to discharge these\npatients early.\n\nAnaesthetists who work with the elderly (which is almost all of us)\ngenerally take care to tailor the choice and dose of drugs used to\nthe individual patient. Even so, there is some evidence that full\nmental recovery may take a surprisingly long time to return. This is\nthe sort of thing which is detected by setting quite difficult\ntasks, not the gross change that the original poster noted.\n\nHaloperidol (Haldol TM) is a long acting drug. The plasma half life\nof the drug is up to 35 hours. If the decanoate (a sort of slow\nrelease formulation) is used it may be weeks. The elderly are\nsensitive to haloperidol for a number of reasons. Without knowing\nmore it is hard to comment.\n\nDon Mackie - his opinions\nesiology will disavow...\n",
         "13",
         "sci.med",
         "misc.health.medical"
        ],
        [
         "13",
         "Re: Need info on Circumcision, medical cons and pros\n\nIn article <>  (Mike G.) writes:\n>Need info on Circumcision, medical cons and pros\n>\n>In article <> Gunnar Blix, \n>writes:\n>>I need information on the medical (including emotional :-) pros and\n>>cons of circumcision (at birth).  I am especially interested in\n>>references to studies that indicate disadvantages or refute studies\n>>that indicate advantages.  A friend who is a medical student is\n>>writing a survey paper, and apparently the studies she has run into\n>>are all for circumcision, the main argument being a lower risk of\n>>penile cancer.\n>>\n>>Please email responses as I am not a frequent reader of either group.\n>>I will summarize to the net.\n>\n>I'm very surprised that medical schools still push routine circumcision\n>of newborn males on the population. Since your friend is not a man, she\n\n\nMoney probably has a lot to do with keeping the practice of routine \ncircumcision alive... It's another opporitunity to charge a few hundred\nextra bucks for a completely unnecessary procedure, the rationale for \nwhich until recently has been accepted without question by most\nparents of newborns.  \n\nOne could also imagine that complications arising from circumcision\n(infections, sloppy jobs, etc) are far more common than the remote chance\nof penile cancer it is purported to prevent.  \n \n\n>can't imagine what it's like to have a penis, much less a foreskin. I\n>guess if American medicine did an artistic job of circumcising every\n>male, then the visual result would be somewhat more natural in\n>appearance...\n>\n>The penile cancer thing has been *completely* debunked...she must be\n>going to school on a South Pacific island. Tell her to check the Journal\n>or Urology for circumcision articles. I remember at least 1 on an old\n>Jewish man (cut at birth) who developed penile cancer....I mean, if the\n>cancer risk was that great, the Europe who have been circumcising like\n>crazy, too. Teaching a boy how to keep his cockhead clean is the issue: a\n>little proper hygiene goes a long way - Americans are just too hung up on\n>the penis to consider cleaning it: that's just way too much like\n>mastubation. So you have surgical intervention that is basically\n>unnecessary.\n\nPeter Schlumpf\nUniversity of Illinois at Urbana-Champaign\n",
         "13",
         "sci.med",
         "(error)"
        ],
        [
         "14",
         "Re: No. Re: Space Marketing would be wonderfull.\n\nOthers said:\n# >Coca Cola company will want to paint the moon red and white.  (Well,\n# >if not this moon, then a moon of Jupiter)...\n\nThis reminds me of the old Arthur C. Clarke story about the Coca Cola\nad stashed inside an experiment.\n--\nA host is a host from coast to \n& no one will talk to a host that's close............(301) 56-LINUX\nUnless the host (that isn't close).........................pob 1433\nis busy, hung or dead....................................20915-1433\n",
         "14",
         "sci.space",
         "alt.folklore.urban"
        ],
        [
         "15",
         "Re: Philosophy Quest.  How Boldly?\n\nIn article <>  (Bob Kierski) writes:\n>...Over the years we have decided that certain\n>cultures need improvements.  The native americans is a good example.  Prior\n>to our attempt to civilize them, the native american culture had very\n>little crime, no homelessnes, no poverty...\n\nThis is, shall we say, an overly-broad statement.  In particular, are you\nreferring to the native American culture that existed in 1400, or the one\nthat existed in 1800?  (Simplify things by assuming we're talking about\nthe eastern US rather than the whole continent.)  Given that those were\n*radically* different cultures, which one are you referring to?\n\n>...If we encounter life elsewhere, do we tell them they have to live in\n>houses, farm the land and go to church on sunday?\n\nNote that the pre-Columbian native Americans, east of the Mississippi,\ndid all of these things.  (Well, maybe not \"on Sunday\", but they did\nhave organized religions, not to mention cities and governments.)  If\nyou are judging the native Americans by the tribal culture that existed\nin 1800, you might want to read an account of the De Soto expedition\nto find out what pre-Columbian native American culture, at least in the\nmore civilized parts of the continent, was like.\n-- \nSVR4 resembles a high-speed collision   | Henry Spencer @ U of Toronto Zoology\nbetween SVR3 and SunOS.    - Dick Dunn  |    utzoo!henry\n",
         "14",
         "sci.space",
         "talk.politics.guns"
        ]
       ],
       "shape": {
        "columns": 4,
        "rows": 16
       }
      },
      "text/html": [
       "<div>\n",
       "<style scoped>\n",
       "    .dataframe tbody tr th:only-of-type {\n",
       "        vertical-align: middle;\n",
       "    }\n",
       "\n",
       "    .dataframe tbody tr th {\n",
       "        vertical-align: top;\n",
       "    }\n",
       "\n",
       "    .dataframe thead th {\n",
       "        text-align: right;\n",
       "    }\n",
       "</style>\n",
       "<table border=\"1\" class=\"dataframe\">\n",
       "  <thead>\n",
       "    <tr style=\"text-align: right;\">\n",
       "      <th></th>\n",
       "      <th>Text</th>\n",
       "      <th>Label</th>\n",
       "      <th>Class Name</th>\n",
       "      <th>Prediction</th>\n",
       "    </tr>\n",
       "  </thead>\n",
       "  <tbody>\n",
       "    <tr>\n",
       "      <th>0</th>\n",
       "      <td>REVIEW: 1989 Ford Taurus SHO\\n\\nReview of 1989...</td>\n",
       "      <td>7</td>\n",
       "      <td>rec.autos</td>\n",
       "      <td>rec.autos</td>\n",
       "    </tr>\n",
       "    <tr>\n",
       "      <th>1</th>\n",
       "      <td>2 Camrys eating clutch master cyls?\\n\\nI have ...</td>\n",
       "      <td>7</td>\n",
       "      <td>rec.autos</td>\n",
       "      <td>rec.autos.toyota</td>\n",
       "    </tr>\n",
       "    <tr>\n",
       "      <th>2</th>\n",
       "      <td>Re: Type spesifications (CB, VFR, GT, etc.)\\n\\...</td>\n",
       "      <td>8</td>\n",
       "      <td>rec.motorcycles</td>\n",
       "      <td>rec.motorcycles</td>\n",
       "    </tr>\n",
       "    <tr>\n",
       "      <th>3</th>\n",
       "      <td>Re: Why I wanted police officers to answer my ...</td>\n",
       "      <td>8</td>\n",
       "      <td>rec.motorcycles</td>\n",
       "      <td>rec.motorcycles</td>\n",
       "    </tr>\n",
       "    <tr>\n",
       "      <th>4</th>\n",
       "      <td>Phils winning the hard way\\n\\n\\nThe Phillies h...</td>\n",
       "      <td>9</td>\n",
       "      <td>rec.sport.baseball</td>\n",
       "      <td>rec.sport.baseball</td>\n",
       "    </tr>\n",
       "    <tr>\n",
       "      <th>5</th>\n",
       "      <td>Re: Apology for Article\\n\\nIn article &lt;&gt;, Stev...</td>\n",
       "      <td>9</td>\n",
       "      <td>rec.sport.baseball</td>\n",
       "      <td>rec.sports.baseball</td>\n",
       "    </tr>\n",
       "    <tr>\n",
       "      <th>6</th>\n",
       "      <td>Re: Where's Roger?\\n\\nduncan@\b\b (Nicholas Du...</td>\n",
       "      <td>10</td>\n",
       "      <td>rec.sport.hockey</td>\n",
       "      <td>rec.sports.hockey</td>\n",
       "    </tr>\n",
       "    <tr>\n",
       "      <th>7</th>\n",
       "      <td>Pierre Turgeon a stud!\\n\\nBeing a a BLUES fan ...</td>\n",
       "      <td>10</td>\n",
       "      <td>rec.sport.hockey</td>\n",
       "      <td>rec.sport.hockey</td>\n",
       "    </tr>\n",
       "    <tr>\n",
       "      <th>8</th>\n",
       "      <td>Re: Overreacting (was Re: Once tapped, your co...</td>\n",
       "      <td>11</td>\n",
       "      <td>sci.crypt</td>\n",
       "      <td>alt.politics.crypto</td>\n",
       "    </tr>\n",
       "    <tr>\n",
       "      <th>9</th>\n",
       "      <td>Re: Clipper chip\\n\\nIn article &lt;&gt;,  writes:\\n|...</td>\n",
       "      <td>11</td>\n",
       "      <td>sci.crypt</td>\n",
       "      <td>(error)</td>\n",
       "    </tr>\n",
       "    <tr>\n",
       "      <th>10</th>\n",
       "      <td>Packet Radio on the PC\\n\\nI'm looking for any ...</td>\n",
       "      <td>12</td>\n",
       "      <td>sci.electronics</td>\n",
       "      <td>rec.radio.amateur.packet</td>\n",
       "    </tr>\n",
       "    <tr>\n",
       "      <th>11</th>\n",
       "      <td>Re: ATARI 2600 Processors\\n\\n (Ian Farquhar) w...</td>\n",
       "      <td>12</td>\n",
       "      <td>sci.electronics</td>\n",
       "      <td>comp.sys.atari.st</td>\n",
       "    </tr>\n",
       "    <tr>\n",
       "      <th>12</th>\n",
       "      <td>Re: re:use of haldol and the elderly\\n\\nIn art...</td>\n",
       "      <td>13</td>\n",
       "      <td>sci.med</td>\n",
       "      <td>misc.health.medical</td>\n",
       "    </tr>\n",
       "    <tr>\n",
       "      <th>13</th>\n",
       "      <td>Re: Need info on Circumcision, medical cons an...</td>\n",
       "      <td>13</td>\n",
       "      <td>sci.med</td>\n",
       "      <td>(error)</td>\n",
       "    </tr>\n",
       "    <tr>\n",
       "      <th>14</th>\n",
       "      <td>Re: No. Re: Space Marketing would be wonderful...</td>\n",
       "      <td>14</td>\n",
       "      <td>sci.space</td>\n",
       "      <td>alt.folklore.urban</td>\n",
       "    </tr>\n",
       "    <tr>\n",
       "      <th>15</th>\n",
       "      <td>Re: Philosophy Quest.  How Boldly?\\n\\nIn artic...</td>\n",
       "      <td>14</td>\n",
       "      <td>sci.space</td>\n",
       "      <td>talk.politics.guns</td>\n",
       "    </tr>\n",
       "  </tbody>\n",
       "</table>\n",
       "</div>"
      ],
      "text/plain": [
       "                                                 Text  Label  \\\n",
       "0   REVIEW: 1989 Ford Taurus SHO\\n\\nReview of 1989...      7   \n",
       "1   2 Camrys eating clutch master cyls?\\n\\nI have ...      7   \n",
       "2   Re: Type spesifications (CB, VFR, GT, etc.)\\n\\...      8   \n",
       "3   Re: Why I wanted police officers to answer my ...      8   \n",
       "4   Phils winning the hard way\\n\\n\\nThe Phillies h...      9   \n",
       "5   Re: Apology for Article\\n\\nIn article <>, Stev...      9   \n",
       "6   Re: Where's Roger?\\n\\nduncan@\b\b (Nicholas Du...     10   \n",
       "7   Pierre Turgeon a stud!\\n\\nBeing a a BLUES fan ...     10   \n",
       "8   Re: Overreacting (was Re: Once tapped, your co...     11   \n",
       "9   Re: Clipper chip\\n\\nIn article <>,  writes:\\n|...     11   \n",
       "10  Packet Radio on the PC\\n\\nI'm looking for any ...     12   \n",
       "11  Re: ATARI 2600 Processors\\n\\n (Ian Farquhar) w...     12   \n",
       "12  Re: re:use of haldol and the elderly\\n\\nIn art...     13   \n",
       "13  Re: Need info on Circumcision, medical cons an...     13   \n",
       "14  Re: No. Re: Space Marketing would be wonderful...     14   \n",
       "15  Re: Philosophy Quest.  How Boldly?\\n\\nIn artic...     14   \n",
       "\n",
       "            Class Name                Prediction  \n",
       "0            rec.autos                 rec.autos  \n",
       "1            rec.autos          rec.autos.toyota  \n",
       "2      rec.motorcycles           rec.motorcycles  \n",
       "3      rec.motorcycles           rec.motorcycles  \n",
       "4   rec.sport.baseball        rec.sport.baseball  \n",
       "5   rec.sport.baseball       rec.sports.baseball  \n",
       "6     rec.sport.hockey         rec.sports.hockey  \n",
       "7     rec.sport.hockey          rec.sport.hockey  \n",
       "8            sci.crypt       alt.politics.crypto  \n",
       "9            sci.crypt                   (error)  \n",
       "10     sci.electronics  rec.radio.amateur.packet  \n",
       "11     sci.electronics         comp.sys.atari.st  \n",
       "12             sci.med       misc.health.medical  \n",
       "13             sci.med                   (error)  \n",
       "14           sci.space        alt.folklore.urban  \n",
       "15           sci.space        talk.politics.guns  "
      ]
     },
     "execution_count": 14,
     "metadata": {},
     "output_type": "execute_result"
    }
   ],
   "source": [
    "df_baseline_eval"
   ]
  },
  {
   "cell_type": "markdown",
   "metadata": {
    "id": "Ok7ugrLzcghX"
   },
   "source": [
    "## Tune a custom model\n",
    "\n",
    "In this example you'll use tuning to create a model that requires no prompting or system instructions and outputs succinct text from the classes you provide in the training data.\n",
    "\n",
    "The data contains both input text (the processed posts) and output text (the category, or newsgroup), that you can use to start tuning a model.\n",
    "\n",
    "When calling `tune()`, you can specify model tuning hyperparameters too:\n",
    " - `epoch_count`: defines how many times to loop through the data,\n",
    " - `batch_size`: defines how many rows to process in a single step, and\n",
    " - `learning_rate`: defines the scaling factor for updating model weights at each step.\n",
    "\n",
    "You can also choose to omit them and use the defaults. [Learn more](https://developers.google.com/machine-learning/crash-course/linear-regression/hyperparameters) about these parameters and how they work. For this example these parameters were selected by running some tuning jobs and selecting parameters that converged efficiently.\n",
    "\n",
    "This example will start a new tuning job, but only if one does not already exist. This allows you to leave this codelab and come back later - re-running this step will find your last model."
   ]
  },
  {
   "cell_type": "code",
   "execution_count": 15,
   "metadata": {
    "execution": {
     "iopub.execute_input": "2025-04-02T07:55:53.142071Z",
     "iopub.status.busy": "2025-04-02T07:55:53.141652Z",
     "iopub.status.idle": "2025-04-02T07:55:55.004654Z",
     "shell.execute_reply": "2025-04-02T07:55:55.003495Z",
     "shell.execute_reply.started": "2025-04-02T07:55:53.142034Z"
    },
    "id": "pWOZlspfY8dV",
    "trusted": true
   },
   "outputs": [
    {
     "name": "stderr",
     "output_type": "stream",
     "text": [
      "/tmp/ipykernel_75894/2550230802.py:39: ExperimentalWarning: The SDK's tuning implementation is experimental, and may change in future versions.\n",
      "  tuning_op = client.tunings.tune(\n"
     ]
    },
    {
     "name": "stdout",
     "output_type": "stream",
     "text": [
      "JobState.JOB_STATE_QUEUED\n",
      "tunedModels/newsgroup-classification-model-4yz6hu35v\n"
     ]
    }
   ],
   "source": [
    "from collections.abc import Iterable\n",
    "import random\n",
    "\n",
    "\n",
    "# Convert the data frame into a dataset suitable for tuning.\n",
    "input_data = {'examples': \n",
    "    df_train[['Text', 'Class Name']]\n",
    "      .rename(columns={'Text': 'textInput', 'Class Name': 'output'})\n",
    "      .to_dict(orient='records')\n",
    " }\n",
    "\n",
    "# If you are re-running this lab, add your model_id here.\n",
    "model_id = None\n",
    "\n",
    "# Or try and find a recent tuning job.\n",
    "if not model_id:\n",
    "  queued_model = None\n",
    "  # Newest models first.\n",
    "  for m in reversed(client.tunings.list()):\n",
    "    # Only look at newsgroup classification models.\n",
    "    if m.name.startswith('tunedModels/newsgroup-classification-model'):\n",
    "      # If there is a completed model, use the first (newest) one.\n",
    "      if m.state.name == 'JOB_STATE_SUCCEEDED':\n",
    "        model_id = m.name\n",
    "        print('Found existing tuned model to reuse.')\n",
    "        break\n",
    "\n",
    "      elif m.state.name == 'JOB_STATE_RUNNING' and not queued_model:\n",
    "        # If there's a model still queued, remember the most recent one.\n",
    "        queued_model = m.name\n",
    "  else:\n",
    "    if queued_model:\n",
    "      model_id = queued_model\n",
    "      print('Found queued model, still waiting.')\n",
    "\n",
    "\n",
    "# Upload the training data and queue the tuning job.\n",
    "if not model_id:\n",
    "    tuning_op = client.tunings.tune(\n",
    "        base_model=\"models/gemini-1.5-flash-001-tuning\",\n",
    "        training_dataset=input_data,\n",
    "        config=types.CreateTuningJobConfig(\n",
    "            tuned_model_display_name=\"Newsgroup classification model\",\n",
    "            batch_size=16,\n",
    "            epoch_count=2,\n",
    "        ),\n",
    "    )\n",
    "\n",
    "    print(tuning_op.state)\n",
    "    model_id = tuning_op.name\n",
    "\n",
    "print(model_id)"
   ]
  },
  {
   "cell_type": "markdown",
   "metadata": {
    "id": "NQ3YZ2MBubCY"
   },
   "source": [
    "This has created a tuning job that will run in the background. To inspect the progress of the tuning job, run this cell to plot the current status and loss curve. Once the status reaches `ACTIVE`, tuning is complete and the model is ready to use.\n",
    "\n",
    "Tuning jobs are queued, so it may look like no training steps have been taken initially but it will progress. Tuning can take anywhere from a few minutes to multiple hours, depending on factors like your dataset size and how busy the tuning infrastrature is. Why not treat yourself to a nice cup of tea while you wait, or come and say \"Hi!\" in the group [Discord](https://discord.com/invite/kaggle).\n",
    "\n",
    "It is safe to stop this cell at any point. It will not stop the tuning job.\n",
    "\n",
    "**IMPORTANT**: Due to the high volume of users doing this course, tuning jobs may be queued for many hours. Take a note of your tuned model ID above (`tunedModels/...`) so you can come back to it tomorrow. In the meantime, check out the [Search grounding](https://www.kaggle.com/code/markishere/day-4-google-search-grounding/) codelab. If you want to try tuning a local LLM, check out [the fine-tuning guides for tuning a Gemma model](https://ai.google.dev/gemma/docs/tune)."
   ]
  },
  {
   "cell_type": "code",
   "execution_count": 19,
   "metadata": {
    "execution": {
     "iopub.execute_input": "2025-04-02T08:11:13.878725Z",
     "iopub.status.busy": "2025-04-02T08:11:13.878313Z",
     "iopub.status.idle": "2025-04-02T08:11:15.417549Z",
     "shell.execute_reply": "2025-04-02T08:11:15.416441Z",
     "shell.execute_reply.started": "2025-04-02T08:11:13.878693Z"
    },
    "id": "c4ef5f13692d",
    "trusted": true
   },
   "outputs": [
    {
     "name": "stdout",
     "output_type": "stream",
     "text": [
      "JobState.JOB_STATE_RUNNING\n",
      "Taking a shortcut, using a previously prepared model.\n",
      "Done! The model state is: JOB_STATE_SUCCEEDED\n"
     ]
    }
   ],
   "source": [
    "import datetime\n",
    "import time\n",
    "\n",
    "\n",
    "MAX_WAIT = datetime.timedelta(minutes=10)\n",
    "\n",
    "while not (tuned_model := client.tunings.get(name=model_id)).has_ended:\n",
    "\n",
    "    print(tuned_model.state)\n",
    "    time.sleep(60)\n",
    "\n",
    "    # Don't wait too long. Use a public model if this is going to take a while.\n",
    "    if datetime.datetime.now(datetime.timezone.utc) - tuned_model.create_time > MAX_WAIT:\n",
    "        print(\"Taking a shortcut, using a previously prepared model.\")\n",
    "        model_id = \"tunedModels/newsgroup-classification-model-ltenbi1b\"\n",
    "        tuned_model = client.tunings.get(name=model_id)\n",
    "        break\n",
    "\n",
    "\n",
    "print(f\"Done! The model state is: {tuned_model.state.name}\")\n",
    "\n",
    "if not tuned_model.has_succeeded and tuned_model.error:\n",
    "    print(\"Error:\", tuned_model.error)"
   ]
  },
  {
   "cell_type": "markdown",
   "metadata": {
    "id": "9-qiIdK4u80z"
   },
   "source": [
    "## Use the new model\n",
    "\n",
    "Now that you have a tuned model, try it out with custom data. You use the same API as a normal Gemini API interaction, but you specify your new model as the model name, which will start with `tunedModels/`."
   ]
  },
  {
   "cell_type": "code",
   "execution_count": 20,
   "metadata": {
    "execution": {
     "iopub.execute_input": "2025-04-02T08:11:24.91659Z",
     "iopub.status.busy": "2025-04-02T08:11:24.915979Z",
     "iopub.status.idle": "2025-04-02T08:11:27.566345Z",
     "shell.execute_reply": "2025-04-02T08:11:27.564861Z",
     "shell.execute_reply.started": "2025-04-02T08:11:24.91654Z"
    },
    "id": "hyO2-MXLvM6a",
    "trusted": true
   },
   "outputs": [
    {
     "name": "stdout",
     "output_type": "stream",
     "text": [
      "sci.space\n"
     ]
    }
   ],
   "source": [
    "new_text = \"\"\"\n",
    "First-timer looking to get out of here.\n",
    "\n",
    "Hi, I'm writing about my interest in travelling to the outer limits!\n",
    "\n",
    "What kind of craft can I buy? What is easiest to access from this 3rd rock?\n",
    "\n",
    "Let me know how to do that please.\n",
    "\"\"\"\n",
    "\n",
    "response = client.models.generate_content(\n",
    "    model=model_id, contents=new_text)\n",
    "\n",
    "print(response.text)"
   ]
  },
  {
   "cell_type": "markdown",
   "metadata": {
    "id": "xajLek9DySH_"
   },
   "source": [
    "### Evaluation\n",
    "\n",
    "You can see that the model outputs labels that correspond to those in the training data, and without any system instructions or prompting, which is already a great improvement. Now see how well it performs on the test set.\n",
    "\n",
    "Note that there is no parallelism in this example; classifying the test sub-set will take a few minutes."
   ]
  },
  {
   "cell_type": "code",
   "execution_count": 21,
   "metadata": {
    "execution": {
     "iopub.execute_input": "2025-04-02T08:11:29.713129Z",
     "iopub.status.busy": "2025-04-02T08:11:29.712728Z",
     "iopub.status.idle": "2025-04-02T08:14:02.348228Z",
     "shell.execute_reply": "2025-04-02T08:14:02.347128Z",
     "shell.execute_reply.started": "2025-04-02T08:11:29.713082Z"
    },
    "id": "6T2Y3ZApvbMw",
    "trusted": true
   },
   "outputs": [
    {
     "data": {
      "application/vnd.jupyter.widget-view+json": {
       "model_id": "0b358c71f7414e7e92a9b7c68d93943f",
       "version_major": 2,
       "version_minor": 0
      },
      "text/plain": [
       "Output()"
      ]
     },
     "metadata": {},
     "output_type": "display_data"
    },
    {
     "data": {
      "text/html": [
       "<pre style=\"white-space:pre;overflow-x:auto;line-height:normal;font-family:Menlo,'DejaVu Sans Mono',consolas,'Courier New',monospace\"></pre>\n"
      ],
      "text/plain": []
     },
     "metadata": {},
     "output_type": "display_data"
    },
    {
     "name": "stdout",
     "output_type": "stream",
     "text": [
      "Accuracy: 90.62%\n"
     ]
    }
   ],
   "source": [
    "@retry.Retry(predicate=is_retriable)\n",
    "def classify_text(text: str) -> str:\n",
    "    \"\"\"Classify the provided text into a known newsgroup.\"\"\"\n",
    "    response = client.models.generate_content(\n",
    "        model=model_id, contents=text)\n",
    "    rc = response.candidates[0]\n",
    "\n",
    "    # Any errors, filters, recitation, etc we can mark as a general error\n",
    "    if rc.finish_reason.name != \"STOP\":\n",
    "        return \"(error)\"\n",
    "    else:\n",
    "        return rc.content.parts[0].text\n",
    "\n",
    "\n",
    "# The sampling here is just to minimise your quota usage. If you can, you should\n",
    "# evaluate the whole test set with `df_model_eval = df_test.copy()`.\n",
    "df_model_eval = sample_data(df_test, 4, '.*')\n",
    "\n",
    "df_model_eval[\"Prediction\"] = df_model_eval[\"Text\"].progress_apply(classify_text)\n",
    "\n",
    "accuracy = (df_model_eval[\"Class Name\"] == df_model_eval[\"Prediction\"]).sum() / len(df_model_eval)\n",
    "print(f\"Accuracy: {accuracy:.2%}\")"
   ]
  },
  {
   "cell_type": "markdown",
   "metadata": {},
   "source": [
    "## Compare token usage\n",
    "\n",
    "AI Studio and the Gemini API provide model tuning at no cost, however normal limits and charges apply for *use* of a tuned model.\n",
    "\n",
    "The size of the input prompt and other generation config like system instructions, as well as the number of generated output tokens, all contribute to the overall cost of a request."
   ]
  },
  {
   "cell_type": "code",
   "execution_count": 22,
   "metadata": {
    "execution": {
     "iopub.execute_input": "2025-04-02T08:14:02.353306Z",
     "iopub.status.busy": "2025-04-02T08:14:02.35288Z",
     "iopub.status.idle": "2025-04-02T08:14:02.612742Z",
     "shell.execute_reply": "2025-04-02T08:14:02.611517Z",
     "shell.execute_reply.started": "2025-04-02T08:14:02.353257Z"
    },
    "trusted": true
   },
   "outputs": [
    {
     "name": "stdout",
     "output_type": "stream",
     "text": [
      "System instructed baseline model: 172 (input)\n",
      "Tuned model: 136 (input)\n",
      "Token savings: 26.47%\n"
     ]
    }
   ],
   "source": [
    "# Calculate the *input* cost of the baseline model with system instructions.\n",
    "sysint_tokens = client.models.count_tokens(\n",
    "    model='gemini-1.5-flash-001', contents=[system_instruct, sample_row]\n",
    ").total_tokens\n",
    "print(f'System instructed baseline model: {sysint_tokens} (input)')\n",
    "\n",
    "# Calculate the input cost of the tuned model.\n",
    "tuned_tokens = client.models.count_tokens(model=tuned_model.base_model, contents=sample_row).total_tokens\n",
    "print(f'Tuned model: {tuned_tokens} (input)')\n",
    "\n",
    "savings = (sysint_tokens - tuned_tokens) / tuned_tokens\n",
    "print(f'Token savings: {savings:.2%}')  # Note that this is only n=1."
   ]
  },
  {
   "cell_type": "markdown",
   "metadata": {},
   "source": [
    "The earlier verbose model also produced more output tokens than needed for this task."
   ]
  },
  {
   "cell_type": "code",
   "execution_count": 23,
   "metadata": {
    "execution": {
     "iopub.execute_input": "2025-04-02T08:14:02.615096Z",
     "iopub.status.busy": "2025-04-02T08:14:02.614741Z",
     "iopub.status.idle": "2025-04-02T08:14:03.532486Z",
     "shell.execute_reply": "2025-04-02T08:14:03.531188Z",
     "shell.execute_reply.started": "2025-04-02T08:14:02.615061Z"
    },
    "trusted": true
   },
   "outputs": [
    {
     "name": "stdout",
     "output_type": "stream",
     "text": [
      "Baseline (verbose) output tokens: 168\n",
      "Tuned output tokens: 3\n"
     ]
    }
   ],
   "source": [
    "baseline_token_output = baseline_response.usage_metadata.candidates_token_count\n",
    "print('Baseline (verbose) output tokens:', baseline_token_output)\n",
    "\n",
    "tuned_model_output = client.models.generate_content(\n",
    "    model=model_id, contents=sample_row)\n",
    "tuned_tokens_output = tuned_model_output.usage_metadata.candidates_token_count\n",
    "print('Tuned output tokens:', tuned_tokens_output)"
   ]
  },
  {
   "cell_type": "markdown",
   "metadata": {
    "id": "6c1204a5d0ab"
   },
   "source": [
    "## Next steps\n",
    "\n",
    "Now that you have tuned a classification model, try some other tasks, like tuning a model to respond with a specific tone or style using hand-written examples (or even generated examples!). Kaggle hosts [a number of datasets](https://www.kaggle.com/datasets) you can try out.\n",
    "\n",
    "Learn about [when supervised fine-tuning is most effective](https://cloud.google.com/blog/products/ai-machine-learning/supervised-fine-tuning-for-gemini-llm).\n",
    "\n",
    "And check out the [fine-tuning tutorial](https://ai.google.dev/gemini-api/docs/model-tuning/tutorial?hl=en&lang=python) for another example that shows a tuned model extending beyond the training data to new, unseen inputs.\n",
    "\n",
    "*- [Mark McD](https://linktr.ee/markmcd)*"
   ]
  }
 ],
 "metadata": {
  "colab": {
   "name": "day-4-fine-tuning-a-custom-model.ipynb",
   "toc_visible": true
  },
  "kaggle": {
   "accelerator": "none",
   "dataSources": [],
   "dockerImageVersionId": 30786,
   "isGpuEnabled": false,
   "isInternetEnabled": true,
   "language": "python",
   "sourceType": "notebook"
  },
  "kernelspec": {
   "display_name": "ggenai",
   "language": "python",
   "name": "python3"
  },
  "language_info": {
   "codemirror_mode": {
    "name": "ipython",
    "version": 3
   },
   "file_extension": ".py",
   "mimetype": "text/x-python",
   "name": "python",
   "nbconvert_exporter": "python",
   "pygments_lexer": "ipython3",
   "version": "3.12.9"
  }
 },
 "nbformat": 4,
 "nbformat_minor": 4
}
