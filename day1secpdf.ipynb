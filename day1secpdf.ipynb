{
 "cells": [
  {
   "cell_type": "code",
   "execution_count": 1,
   "metadata": {
    "execution": {
     "iopub.execute_input": "2025-03-31T09:30:31.065178Z",
     "iopub.status.busy": "2025-03-31T09:30:31.06489Z",
     "iopub.status.idle": "2025-03-31T09:30:32.58451Z",
     "shell.execute_reply": "2025-03-31T09:30:32.583327Z",
     "shell.execute_reply.started": "2025-03-31T09:30:31.065153Z"
    },
    "id": "VWZlEwomGDir",
    "outputId": "e4e4a419-7be5-4b0e-c534-25a089c65600",
    "trusted": true
   },
   "outputs": [
    {
     "name": "stdout",
     "output_type": "stream",
     "text": [
      "genai.__version__='1.11.0'\n",
      "39\n"
     ]
    }
   ],
   "source": [
    "# !pip install -Uq \"google-genai==1.7.0\"\n",
    "\n",
    "import duckdb\n",
    "import pandas as pd\n",
    "from google import genai\n",
    "from google.genai import types\n",
    "from google.api_core import retry\n",
    "from IPython.display import Markdown, display\n",
    "print(f\"{genai.__version__=}\")\n",
    "\n",
    "# For use on Kaggle\n",
    "# from kaggle_secrets import UserSecretsClient\n",
    "# GOOGLE_API_KEY = UserSecretsClient().get_secret(\"GOOGLE_API_KEY\")\n",
    "\n",
    "# For use locally\n",
    "import os\n",
    "from dotenv import load_dotenv\n",
    "load_dotenv()\n",
    "GOOGLE_API_KEY = os.getenv(\"GOOGLE_API_KEY\")\n",
    "print(len(GOOGLE_API_KEY))\n",
    "\n",
    "client = genai.Client(api_key=GOOGLE_API_KEY)\n",
    "\n",
    "is_retriable = lambda e: (isinstance(e, genai.errors.APIError) and e.code in {429, 503})\n",
    "\n",
    "if not hasattr(genai.models.Models.generate_content, '__wrapped__'):\n",
    "  genai.models.Models.generate_content = retry.Retry(    \n",
    "      predicate=is_retriable)(genai.models.Models.generate_content)"
   ]
  },
  {
   "cell_type": "code",
   "execution_count": null,
   "metadata": {},
   "outputs": [
    {
     "name": "stdout",
     "output_type": "stream",
     "text": [
      "DuckDB Database Schema:\n",
      "\n",
      "Table Name: 'cal'\n",
      "Columns:\n",
      "  adsh VARCHAR NOTNULL,\n",
      "  grp BIGINT NOTNULL,\n",
      "  arc BIGINT NOTNULL,\n",
      "  negative BIGINT,\n",
      "  ptag VARCHAR,\n",
      "  pversion VARCHAR,\n",
      "  ctag VARCHAR,\n",
      "  cversion VARCHAR,\n",
      "\n",
      "Table Name: 'company'\n",
      "Columns:\n",
      "  cik BIGINT NOTNULL,\n",
      "  name VARCHAR,\n",
      "\n",
      "Table Name: 'dim'\n",
      "Columns:\n",
      "  dimhash VARCHAR NOTNULL,\n",
      "  segments VARCHAR,\n",
      "  segt BIGINT,\n",
      "\n",
      "Table Name: 'num'\n",
      "Columns:\n",
      "  adsh VARCHAR,\n",
      "  tag VARCHAR,\n",
      "  version VARCHAR,\n",
      "  ddate DATE,\n",
      "  qtrs BIGINT,\n",
      "  uom VARCHAR,\n",
      "  dimh VARCHAR,\n",
      "  iprx BIGINT,\n",
      "  value DOUBLE,\n",
      "  footnote VARCHAR,\n",
      "  footlen BIGINT,\n",
      "  dimn BIGINT,\n",
      "  coreg VARCHAR,\n",
      "  durp DOUBLE,\n",
      "  datp DOUBLE,\n",
      "  dcml BIGINT,\n",
      "\n",
      "Table Name: 'pre'\n",
      "Columns:\n",
      "  adsh VARCHAR NOTNULL,\n",
      "  report BIGINT NOTNULL,\n",
      "  line BIGINT NOTNULL,\n",
      "  stmt VARCHAR,\n",
      "  inpth BIGINT,\n",
      "  tag VARCHAR,\n",
      "  version VARCHAR,\n",
      "  prole VARCHAR,\n",
      "  plabel VARCHAR,\n",
      "  negating BIGINT,\n",
      "\n",
      "Table Name: 'ren'\n",
      "Columns:\n",
      "  adsh VARCHAR NOTNULL,\n",
      "  report BIGINT NOTNULL,\n",
      "  rfile VARCHAR,\n",
      "  menucat VARCHAR,\n",
      "  shortname VARCHAR,\n",
      "  longname VARCHAR,\n",
      "  roleuri VARCHAR,\n",
      "  parentroleuri VARCHAR,\n",
      "  parentreport DOUBLE,\n",
      "  ultparentrpt DOUBLE,\n",
      "\n",
      "Table Name: 'sub'\n",
      "Columns:\n",
      "  adsh VARCHAR NOTNULL,\n",
      "  cik BIGINT,\n",
      "  name VARCHAR,\n",
      "  sic DOUBLE,\n",
      "  countryba VARCHAR,\n",
      "  stprba VARCHAR,\n",
      "  cityba VARCHAR,\n",
      "  zipba VARCHAR,\n",
      "  bas1 VARCHAR,\n",
      "  bas2 VARCHAR,\n",
      "  baph VARCHAR,\n",
      "  countryma VARCHAR,\n",
      "  stprma VARCHAR,\n",
      "  cityma VARCHAR,\n",
      "  zipma VARCHAR,\n",
      "  mas1 VARCHAR,\n",
      "  mas2 VARCHAR,\n",
      "  countryinc VARCHAR,\n",
      "  stprinc VARCHAR,\n",
      "  ein DOUBLE,\n",
      "  former VARCHAR,\n",
      "  changed DATE,\n",
      "  afs VARCHAR,\n",
      "  wksi BIGINT,\n",
      "  fye DOUBLE,\n",
      "  form VARCHAR,\n",
      "  period DATE,\n",
      "  fy DOUBLE,\n",
      "  fp VARCHAR,\n",
      "  filed DATE,\n",
      "  accepted TIMESTAMP,\n",
      "  prevrpt BIGINT,\n",
      "  detail BIGINT,\n",
      "  instance VARCHAR,\n",
      "  nciks BIGINT,\n",
      "  aciks VARCHAR,\n",
      "  pubfloatusd DOUBLE,\n",
      "  floatdate DATE,\n",
      "  floataxis VARCHAR,\n",
      "  floatmems DOUBLE,\n",
      "\n",
      "Table Name: 'tag'\n",
      "Columns:\n",
      "  tag VARCHAR NOTNULL,\n",
      "  version VARCHAR NOTNULL,\n",
      "  custom BIGINT,\n",
      "  abstract BIGINT,\n",
      "  datatype VARCHAR,\n",
      "  iord VARCHAR,\n",
      "  crdr VARCHAR,\n",
      "  tlabel VARCHAR,\n",
      "  doc VARCHAR,\n",
      "\n",
      "Table Name: 'txt'\n",
      "Columns:\n",
      "  adsh VARCHAR,\n",
      "  tag VARCHAR,\n",
      "  version VARCHAR,\n",
      "  ddate DATE,\n",
      "  qtrs BIGINT,\n",
      "  iprx BIGINT,\n",
      "  lang VARCHAR,\n",
      "  dcml BIGINT,\n",
      "  durp DOUBLE,\n",
      "  datp DOUBLE,\n",
      "  dimh VARCHAR,\n",
      "  dimn BIGINT,\n",
      "  coreg VARCHAR,\n",
      "  escaped BIGINT,\n",
      "  srclen BIGINT,\n",
      "  txtlen BIGINT,\n",
      "  footnote VARCHAR,\n",
      "  footlen BIGINT,\n",
      "  context VARCHAR,\n",
      "  value VARCHAR,\n"
     ]
    }
   ],
   "source": [
    "conn = duckdb.connect(database='../SEC/kaggle.db')\n",
    "\n",
    "tables = conn.execute(\"SELECT table_name FROM information_schema.tables WHERE table_schema = 'main'\").fetchall()\n",
    "schema_output = ['DuckDB Database Schema:']\n",
    "\n",
    "for (table_name,) in tables:\n",
    "    schema_output.append(f\"\\nTable Name: '{table_name}'\")\n",
    "    schema = conn.execute(f\"PRAGMA table_info('{table_name}')\").fetchall()\n",
    "    schema_output.append(\"Columns:\")\n",
    "    for column in schema:\n",
    "        cid, name, dtype, notnull, pk, default = column\n",
    "        schema_output.append(f\"  {name} {dtype}{\" NOTNULL,\" if notnull else \",\"}\")\n",
    "# conn.close()\n",
    "schema = \"\\n\".join(schema_output)\n",
    "print(len(schema))"
   ]
  },
  {
   "cell_type": "code",
   "execution_count": 3,
   "metadata": {},
   "outputs": [
    {
     "data": {
      "text/markdown": [
       "The tables that have a `cik` column are:\n",
       "\n",
       "*   `company`\n",
       "*   `sub`"
      ],
      "text/plain": [
       "<IPython.core.display.Markdown object>"
      ]
     },
     "execution_count": 3,
     "metadata": {},
     "output_type": "execute_result"
    }
   ],
   "source": [
    "document_file = client.files.upload(file='fsnds.pdf')\n",
    "request = 'Which table(s) have a cik column?'\n",
    "\n",
    "def summarise_doc(request: str) -> str:\n",
    "  \"\"\"Execute the request on the uploaded document.\"\"\"\n",
    "  # Set the temperature low to stabilise the output.\n",
    "  config = types.GenerateContentConfig(temperature=0.0)\n",
    "  response = client.models.generate_content(\n",
    "      model='gemini-2.0-flash',\n",
    "      config=config,\n",
    "      contents=[request, schema_output],\n",
    "  )\n",
    "\n",
    "  return response.text\n",
    "\n",
    "summary = summarise_doc(request)\n",
    "Markdown(summary)"
   ]
  },
  {
   "cell_type": "code",
   "execution_count": 4,
   "metadata": {},
   "outputs": [
    {
     "name": "stdout",
     "output_type": "stream",
     "text": [
      " - DB CALL: execute_query(select * from pre limit 1)\n"
     ]
    },
    {
     "data": {
      "text/plain": [
       "[('0000891618-09-000150',\n",
       "  3,\n",
       "  22,\n",
       "  'BS',\n",
       "  0,\n",
       "  'AccountsPayable',\n",
       "  'us-gaap/2008',\n",
       "  'label',\n",
       "  'Accounts Payable',\n",
       "  0)]"
      ]
     },
     "execution_count": 4,
     "metadata": {},
     "output_type": "execute_result"
    }
   ],
   "source": [
    "def execute_query(sql: str) -> list[list[str]]:\n",
    "    \"\"\"Execute an SQL statement, returning the results.\"\"\"\n",
    "    print(f' - DB CALL: execute_query({sql})')\n",
    "\n",
    "    cursor = conn.cursor()\n",
    "\n",
    "    cursor.execute(sql)\n",
    "    return cursor.fetchall()\n",
    "\n",
    "\n",
    "execute_query(\"select * from pre limit 1\")"
   ]
  },
  {
   "cell_type": "code",
   "execution_count": 9,
   "metadata": {},
   "outputs": [],
   "source": [
    "# These are the Python functions defined above.\n",
    "db_tools = [execute_query]\n",
    "\n",
    "\n",
    "instruction =\"\"\"\\n\\nYou are a helpful chatbot that can interact with a DuckDB SQL database. \n",
    "You will take the users questions and turn them into SQL queries using the tools available. \n",
    "Once you have the information you need, you will answer the user's question using the data returned.\n",
    "\n",
    "Use execute_query to issue an SQL SELECT query.\"\"\"\n",
    "\n",
    "instruction2 = \"\"\"You are a helpful chatbot that can interact with only a DuckDB SQL database with the following database schema: \\n{schema}. \\n\n",
    "You will take the users questions and turn them into SQL queries using the tools available. \n",
    "Once you have the information you need, you will answer the user's question using the data returned.\n",
    "\"\"\"\n",
    "\n",
    "# Start a chat with automatic function calling enabled.\n",
    "chat = client.chats.create(\n",
    "    model=\"gemini-2.0-flash\",\n",
    "    config=types.GenerateContentConfig(\n",
    "        system_instruction=instruction2,\n",
    "        tools=db_tools,\n",
    "    ),\n",
    ")"
   ]
  },
  {
   "cell_type": "code",
   "execution_count": 10,
   "metadata": {},
   "outputs": [
    {
     "name": "stdout",
     "output_type": "stream",
     "text": [
      "\n",
      "```sql\n",
      "SELECT DISTINCT countyba FROM county_demographics\n",
      "```\n"
     ]
    }
   ],
   "source": [
    "resp = chat.send_message(\"Which countries are in the countyba column?\")\n",
    "print(f\"\\n{resp.text}\")"
   ]
  },
  {
   "cell_type": "code",
   "execution_count": 8,
   "metadata": {},
   "outputs": [
    {
     "name": "stdout",
     "output_type": "stream",
     "text": [
      "\n",
      "```sql\n",
      "SELECT table_name FROM information_schema.columns WHERE column_name = 'company_name'\n",
      "```\n"
     ]
    }
   ],
   "source": [
    "resp = chat.send_message(\"Which table has a company names?\")\n",
    "print(f\"\\n{resp.text}\")"
   ]
  },
  {
   "cell_type": "code",
   "execution_count": null,
   "metadata": {
    "execution": {
     "iopub.execute_input": "2025-03-31T09:30:35.570603Z",
     "iopub.status.busy": "2025-03-31T09:30:35.570251Z",
     "iopub.status.idle": "2025-03-31T09:30:48.493915Z",
     "shell.execute_reply": "2025-03-31T09:30:48.49302Z",
     "shell.execute_reply.started": "2025-03-31T09:30:35.570572Z"
    },
    "id": "Jxx92-z90tPS",
    "outputId": "1ed16b55-d456-4099-acac-04e9540c6aee",
    "trusted": true
   },
   "outputs": [],
   "source": [
    "document_file = client.files.upload(file='fsnds.pdf')\n",
    "request = 'How is the sub table connected to the cal table?'\n",
    "\n",
    "def summarise_doc(request: str) -> str:\n",
    "  \"\"\"Execute the request on the uploaded document.\"\"\"\n",
    "  # Set the temperature low to stabilise the output.\n",
    "  config = types.GenerateContentConfig(temperature=0.0)\n",
    "  response = client.models.generate_content(\n",
    "      model='gemini-2.0-flash',\n",
    "      config=config,\n",
    "      contents=[request, document_file],\n",
    "  )\n",
    "\n",
    "  return response.text\n",
    "\n",
    "summary = summarise_doc(request)\n",
    "Markdown(summary)"
   ]
  },
  {
   "cell_type": "code",
   "execution_count": null,
   "metadata": {
    "execution": {
     "iopub.execute_input": "2025-03-31T09:30:48.495065Z",
     "iopub.status.busy": "2025-03-31T09:30:48.494779Z",
     "iopub.status.idle": "2025-03-31T09:30:49.938861Z",
     "shell.execute_reply": "2025-03-31T09:30:49.937607Z",
     "shell.execute_reply.started": "2025-03-31T09:30:48.495042Z"
    },
    "id": "xEAXtJte-Ajv",
    "outputId": "04459189-13ee-49e6-fe4d-525d323b1609",
    "trusted": true
   },
   "outputs": [],
   "source": []
  },
  {
   "cell_type": "markdown",
   "metadata": {
    "id": "qfkQ0lUByy2o"
   },
   "source": [
    "In this example, the model generated a textual justification that was set up in a chat context. This full text response is useful both for human interpretation and for giving the model a place to \"collect notes\" while it assesses the text and produces a final score. This \"note taking\" or \"thinking\" strategy typically works well with auto-regressive models, where the generated text is passed back into the model at each generation step. This means the working \"notes\" are used when generating final result output.\n",
    "\n",
    "In the next turn, the model converts the text output into a structured response. If you want to aggregate scores or use them programatically then you want to avoid parsing the unstructured text output. Here the `SummaryRating` schema is passed, so the model converts the chat history into an instance of the `SummaryRating` enum."
   ]
  }
 ],
 "metadata": {
  "colab": {
   "provenance": [],
   "toc_visible": true
  },
  "kaggle": {
   "accelerator": "none",
   "dataSources": [],
   "dockerImageVersionId": 30918,
   "isGpuEnabled": false,
   "isInternetEnabled": true,
   "language": "python",
   "sourceType": "notebook"
  },
  "kernelspec": {
   "display_name": "py312",
   "language": "python",
   "name": "python3"
  },
  "language_info": {
   "codemirror_mode": {
    "name": "ipython",
    "version": 3
   },
   "file_extension": ".py",
   "mimetype": "text/x-python",
   "name": "python",
   "nbconvert_exporter": "python",
   "pygments_lexer": "ipython3",
   "version": "3.12.8"
  }
 },
 "nbformat": 4,
 "nbformat_minor": 4
}
