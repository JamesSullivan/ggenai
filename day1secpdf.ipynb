{
 "cells": [
  {
   "cell_type": "code",
   "execution_count": 1,
   "metadata": {
    "execution": {
     "iopub.execute_input": "2025-03-31T09:30:31.065178Z",
     "iopub.status.busy": "2025-03-31T09:30:31.06489Z",
     "iopub.status.idle": "2025-03-31T09:30:32.58451Z",
     "shell.execute_reply": "2025-03-31T09:30:32.583327Z",
     "shell.execute_reply.started": "2025-03-31T09:30:31.065153Z"
    },
    "id": "VWZlEwomGDir",
    "outputId": "e4e4a419-7be5-4b0e-c534-25a089c65600",
    "trusted": true
   },
   "outputs": [
    {
     "name": "stdout",
     "output_type": "stream",
     "text": [
      "genai.__version__='1.11.0'\n",
      "39\n"
     ]
    }
   ],
   "source": [
    "# !pip install -Uq \"google-genai==1.7.0\"\n",
    "\n",
    "import duckdb\n",
    "import pandas as pd\n",
    "from google import genai\n",
    "from google.genai import types\n",
    "from google.api_core import retry\n",
    "from IPython.display import Markdown, display\n",
    "print(f\"{genai.__version__=}\")\n",
    "\n",
    "# For use on Kaggle\n",
    "# from kaggle_secrets import UserSecretsClient\n",
    "# GOOGLE_API_KEY = UserSecretsClient().get_secret(\"GOOGLE_API_KEY\")\n",
    "\n",
    "# For use locally\n",
    "import os\n",
    "from dotenv import load_dotenv\n",
    "load_dotenv()\n",
    "GOOGLE_API_KEY = os.getenv(\"GOOGLE_API_KEY\")\n",
    "print(len(GOOGLE_API_KEY))\n",
    "\n",
    "client = genai.Client(api_key=GOOGLE_API_KEY)\n",
    "\n",
    "is_retriable = lambda e: (isinstance(e, genai.errors.APIError) and e.code in {429, 503})\n",
    "\n",
    "if not hasattr(genai.models.Models.generate_content, '__wrapped__'):\n",
    "  genai.models.Models.generate_content = retry.Retry(    \n",
    "      predicate=is_retriable)(genai.models.Models.generate_content)"
   ]
  },
  {
   "cell_type": "code",
   "execution_count": 2,
   "metadata": {},
   "outputs": [
    {
     "name": "stdout",
     "output_type": "stream",
     "text": [
      "DuckDB Database Schema:\n",
      "\n",
      "Table Name: 'cal'\n",
      "Columns:\n",
      "  adsh VARCHAR NOTNULL,\n",
      "  grp BIGINT NOTNULL,\n",
      "  arc BIGINT NOTNULL,\n",
      "  negative BIGINT,\n",
      "  ptag VARCHAR,\n",
      "  pversion VARCHAR,\n",
      "  ctag VARCHAR,\n",
      "  cversion VARCHAR,\n",
      "\n",
      "Table Name: 'dim'\n",
      "Columns:\n",
      "  dimhash VARCHAR NOTNULL,\n",
      "  segments VARCHAR,\n",
      "  segt BIGINT,\n",
      "\n",
      "Table Name: 'num'\n",
      "Columns:\n",
      "  adsh VARCHAR,\n",
      "  tag VARCHAR,\n",
      "  version VARCHAR,\n",
      "  ddate DATE,\n",
      "  qtrs BIGINT,\n",
      "  uom VARCHAR,\n",
      "  dimh VARCHAR,\n",
      "  iprx BIGINT,\n",
      "  value DOUBLE,\n",
      "  footnote VARCHAR,\n",
      "  footlen BIGINT,\n",
      "  dimn BIGINT,\n",
      "  coreg VARCHAR,\n",
      "  durp DOUBLE,\n",
      "  datp DOUBLE,\n",
      "  dcml BIGINT,\n",
      "\n",
      "Table Name: 'pre'\n",
      "Columns:\n",
      "  adsh VARCHAR NOTNULL,\n",
      "  report BIGINT NOTNULL,\n",
      "  line BIGINT NOTNULL,\n",
      "  stmt VARCHAR,\n",
      "  inpth BIGINT,\n",
      "  tag VARCHAR,\n",
      "  version VARCHAR,\n",
      "  prole VARCHAR,\n",
      "  plabel VARCHAR,\n",
      "  negating BIGINT,\n",
      "\n",
      "Table Name: 'ren'\n",
      "Columns:\n",
      "  adsh VARCHAR NOTNULL,\n",
      "  report BIGINT NOTNULL,\n",
      "  rfile VARCHAR,\n",
      "  menucat VARCHAR,\n",
      "  shortname VARCHAR,\n",
      "  longname VARCHAR,\n",
      "  roleuri VARCHAR,\n",
      "  parentroleuri VARCHAR,\n",
      "  parentreport DOUBLE,\n",
      "  ultparentrpt DOUBLE,\n",
      "\n",
      "Table Name: 'sub'\n",
      "Columns:\n",
      "  adsh VARCHAR NOTNULL,\n",
      "  cik BIGINT,\n",
      "  name VARCHAR,\n",
      "  sic DOUBLE,\n",
      "  countryba VARCHAR,\n",
      "  stprba VARCHAR,\n",
      "  cityba VARCHAR,\n",
      "  zipba VARCHAR,\n",
      "  bas1 VARCHAR,\n",
      "  bas2 VARCHAR,\n",
      "  baph VARCHAR,\n",
      "  countryma VARCHAR,\n",
      "  stprma VARCHAR,\n",
      "  cityma VARCHAR,\n",
      "  zipma VARCHAR,\n",
      "  mas1 VARCHAR,\n",
      "  mas2 VARCHAR,\n",
      "  countryinc VARCHAR,\n",
      "  stprinc VARCHAR,\n",
      "  ein DOUBLE,\n",
      "  former VARCHAR,\n",
      "  changed DATE,\n",
      "  afs VARCHAR,\n",
      "  wksi BIGINT,\n",
      "  fye DOUBLE,\n",
      "  form VARCHAR,\n",
      "  period DATE,\n",
      "  fy DOUBLE,\n",
      "  fp VARCHAR,\n",
      "  filed DATE,\n",
      "  accepted TIMESTAMP,\n",
      "  prevrpt BIGINT,\n",
      "  detail BIGINT,\n",
      "  instance VARCHAR,\n",
      "  nciks BIGINT,\n",
      "  aciks VARCHAR,\n",
      "  pubfloatusd DOUBLE,\n",
      "  floatdate DATE,\n",
      "  floataxis VARCHAR,\n",
      "  floatmems DOUBLE,\n",
      "\n",
      "Table Name: 'tag'\n",
      "Columns:\n",
      "  tag VARCHAR NOTNULL,\n",
      "  version VARCHAR NOTNULL,\n",
      "  custom BIGINT,\n",
      "  abstract BIGINT,\n",
      "  datatype VARCHAR,\n",
      "  iord VARCHAR,\n",
      "  crdr VARCHAR,\n",
      "  tlabel VARCHAR,\n",
      "  doc VARCHAR,\n",
      "\n",
      "Table Name: 'txt'\n",
      "Columns:\n",
      "  adsh VARCHAR,\n",
      "  tag VARCHAR,\n",
      "  version VARCHAR,\n",
      "  ddate DATE,\n",
      "  qtrs BIGINT,\n",
      "  iprx BIGINT,\n",
      "  lang VARCHAR,\n",
      "  dcml BIGINT,\n",
      "  durp DOUBLE,\n",
      "  datp DOUBLE,\n",
      "  dimh VARCHAR,\n",
      "  dimn BIGINT,\n",
      "  coreg VARCHAR,\n",
      "  escaped BIGINT,\n",
      "  srclen BIGINT,\n",
      "  txtlen BIGINT,\n",
      "  footnote VARCHAR,\n",
      "  footlen BIGINT,\n",
      "  context VARCHAR,\n",
      "  value VARCHAR,\n"
     ]
    }
   ],
   "source": [
    "conn = duckdb.connect(database='../SEC/kaggle.db')\n",
    "\n",
    "\n",
    "# Get all table names\n",
    "tables = conn.execute(\"SELECT table_name FROM information_schema.tables WHERE table_schema = 'main'\").fetchall()\n",
    "\n",
    "# Initialize schema output\n",
    "schema_output = ['DuckDB Database Schema:']\n",
    "\n",
    "for (table_name,) in tables:\n",
    "    schema_output.append(f\"\\nTable Name: '{table_name}'\")\n",
    "    schema = conn.execute(f\"PRAGMA table_info('{table_name}')\").fetchall()\n",
    "    schema_output.append(\"Columns:\")\n",
    "    for column in schema:\n",
    "        cid, name, dtype, notnull, pk, default = column\n",
    "        schema_output.append(f\"  {name} {dtype}{\" NOTNULL,\" if notnull else \",\"}\")\n",
    "\n",
    "# Close the connection\n",
    "# conn.close()\n",
    "\n",
    "# Return the schema as a string\n",
    "print(\"\\n\".join(schema_output))\n",
    "\n"
   ]
  },
  {
   "cell_type": "code",
   "execution_count": 3,
   "metadata": {},
   "outputs": [
    {
     "data": {
      "text/markdown": [
       "Based on the provided schema, the following tables have an `adsh` column:\n",
       "\n",
       "*   `cal`\n",
       "*   `num`\n",
       "*   `pre`\n",
       "*   `ren`\n",
       "*   `sub`\n",
       "*   `txt`"
      ],
      "text/plain": [
       "<IPython.core.display.Markdown object>"
      ]
     },
     "execution_count": 3,
     "metadata": {},
     "output_type": "execute_result"
    }
   ],
   "source": [
    "document_file = client.files.upload(file='fsnds.pdf')\n",
    "request = 'Which table(s) have an adsh column?'\n",
    "\n",
    "def summarise_doc(request: str) -> str:\n",
    "  \"\"\"Execute the request on the uploaded document.\"\"\"\n",
    "  # Set the temperature low to stabilise the output.\n",
    "  config = types.GenerateContentConfig(temperature=0.0)\n",
    "  response = client.models.generate_content(\n",
    "      model='gemini-2.0-flash',\n",
    "      config=config,\n",
    "      contents=[request, schema_output],\n",
    "  )\n",
    "\n",
    "  return response.text\n",
    "\n",
    "summary = summarise_doc(request)\n",
    "Markdown(summary)"
   ]
  },
  {
   "cell_type": "code",
   "execution_count": null,
   "metadata": {},
   "outputs": [],
   "source": [
    "def execute_query(sql: str) -> list[list[str]]:\n",
    "    \"\"\"Execute an SQL statement, returning the results.\"\"\"\n",
    "    print(f' - DB CALL: execute_query({sql})')\n",
    "\n",
    "    cursor = conn.cursor()\n",
    "\n",
    "    cursor.execute(sql)\n",
    "    return cursor.fetchall()\n",
    "\n",
    "\n",
    "execute_query(\"select * from sub\")"
   ]
  },
  {
   "cell_type": "code",
   "execution_count": 5,
   "metadata": {},
   "outputs": [
    {
     "ename": "ValidationError",
     "evalue": "1 validation error for GenerateContentConfig\ncontents\n  Extra inputs are not permitted [type=extra_forbidden, input_value=[['DuckDB Database Schema...,', '  value VARCHAR,']], input_type=list]\n    For further information visit https://errors.pydantic.dev/2.10/v/extra_forbidden",
     "output_type": "error",
     "traceback": [
      "\u001b[0;31m---------------------------------------------------------------------------\u001b[0m",
      "\u001b[0;31mValidationError\u001b[0m                           Traceback (most recent call last)",
      "Cell \u001b[0;32mIn[5], line 14\u001b[0m\n\u001b[1;32m      4\u001b[0m instruction \u001b[38;5;241m=\u001b[39m \u001b[38;5;124m\"\"\"\u001b[39m\u001b[38;5;124mYou are a helpful chatbot that can interact with a DuckDB SQL database. \u001b[39m\n\u001b[1;32m      5\u001b[0m \u001b[38;5;124mYou will take the users questions and turn them into SQL queries using the tools available. \u001b[39m\n\u001b[1;32m      6\u001b[0m \u001b[38;5;124mOnce you have the information you need, you will answer the user\u001b[39m\u001b[38;5;124m'\u001b[39m\u001b[38;5;124ms question using the data returned.\u001b[39m\n\u001b[1;32m      7\u001b[0m \n\u001b[1;32m      8\u001b[0m \u001b[38;5;124mUse execute_query to issue an SQL SELECT query.\u001b[39m\u001b[38;5;124m\"\"\"\u001b[39m\n\u001b[1;32m     11\u001b[0m \u001b[38;5;66;03m# Start a chat with automatic function calling enabled.\u001b[39;00m\n\u001b[1;32m     12\u001b[0m chat \u001b[38;5;241m=\u001b[39m client\u001b[38;5;241m.\u001b[39mchats\u001b[38;5;241m.\u001b[39mcreate(\n\u001b[1;32m     13\u001b[0m     model\u001b[38;5;241m=\u001b[39m\u001b[38;5;124m\"\u001b[39m\u001b[38;5;124mgemini-2.0-flash\u001b[39m\u001b[38;5;124m\"\u001b[39m,\n\u001b[0;32m---> 14\u001b[0m     config\u001b[38;5;241m=\u001b[39m\u001b[43mtypes\u001b[49m\u001b[38;5;241;43m.\u001b[39;49m\u001b[43mGenerateContentConfig\u001b[49m\u001b[43m(\u001b[49m\n\u001b[1;32m     15\u001b[0m \u001b[43m        \u001b[49m\u001b[43msystem_instruction\u001b[49m\u001b[38;5;241;43m=\u001b[39;49m\u001b[43minstruction\u001b[49m\u001b[43m,\u001b[49m\n\u001b[1;32m     16\u001b[0m \u001b[43m        \u001b[49m\u001b[43mtools\u001b[49m\u001b[38;5;241;43m=\u001b[39;49m\u001b[43mdb_tools\u001b[49m\u001b[43m,\u001b[49m\n\u001b[1;32m     17\u001b[0m \u001b[43m        \u001b[49m\u001b[43mcontents\u001b[49m\u001b[38;5;241;43m=\u001b[39;49m\u001b[43m[\u001b[49m\u001b[43mschema_output\u001b[49m\u001b[43m]\u001b[49m\u001b[43m,\u001b[49m\n\u001b[1;32m     18\u001b[0m \u001b[43m    \u001b[49m\u001b[43m)\u001b[49m,\n\u001b[1;32m     19\u001b[0m )\n",
      "File \u001b[0;32m~/miniconda3/envs/py312/lib/python3.12/site-packages/pydantic/main.py:214\u001b[0m, in \u001b[0;36mBaseModel.__init__\u001b[0;34m(self, **data)\u001b[0m\n\u001b[1;32m    212\u001b[0m \u001b[38;5;66;03m# `__tracebackhide__` tells pytest and some other tools to omit this function from tracebacks\u001b[39;00m\n\u001b[1;32m    213\u001b[0m __tracebackhide__ \u001b[38;5;241m=\u001b[39m \u001b[38;5;28;01mTrue\u001b[39;00m\n\u001b[0;32m--> 214\u001b[0m validated_self \u001b[38;5;241m=\u001b[39m \u001b[38;5;28;43mself\u001b[39;49m\u001b[38;5;241;43m.\u001b[39;49m\u001b[43m__pydantic_validator__\u001b[49m\u001b[38;5;241;43m.\u001b[39;49m\u001b[43mvalidate_python\u001b[49m\u001b[43m(\u001b[49m\u001b[43mdata\u001b[49m\u001b[43m,\u001b[49m\u001b[43m \u001b[49m\u001b[43mself_instance\u001b[49m\u001b[38;5;241;43m=\u001b[39;49m\u001b[38;5;28;43mself\u001b[39;49m\u001b[43m)\u001b[49m\n\u001b[1;32m    215\u001b[0m \u001b[38;5;28;01mif\u001b[39;00m \u001b[38;5;28mself\u001b[39m \u001b[38;5;129;01mis\u001b[39;00m \u001b[38;5;129;01mnot\u001b[39;00m validated_self:\n\u001b[1;32m    216\u001b[0m     warnings\u001b[38;5;241m.\u001b[39mwarn(\n\u001b[1;32m    217\u001b[0m         \u001b[38;5;124m'\u001b[39m\u001b[38;5;124mA custom validator is returning a value other than `self`.\u001b[39m\u001b[38;5;130;01m\\n\u001b[39;00m\u001b[38;5;124m'\u001b[39m\n\u001b[1;32m    218\u001b[0m         \u001b[38;5;124m\"\u001b[39m\u001b[38;5;124mReturning anything other than `self` from a top level model validator isn\u001b[39m\u001b[38;5;124m'\u001b[39m\u001b[38;5;124mt supported when validating via `__init__`.\u001b[39m\u001b[38;5;130;01m\\n\u001b[39;00m\u001b[38;5;124m\"\u001b[39m\n\u001b[1;32m    219\u001b[0m         \u001b[38;5;124m'\u001b[39m\u001b[38;5;124mSee the `model_validator` docs (https://docs.pydantic.dev/latest/concepts/validators/#model-validators) for more details.\u001b[39m\u001b[38;5;124m'\u001b[39m,\n\u001b[1;32m    220\u001b[0m         stacklevel\u001b[38;5;241m=\u001b[39m\u001b[38;5;241m2\u001b[39m,\n\u001b[1;32m    221\u001b[0m     )\n",
      "\u001b[0;31mValidationError\u001b[0m: 1 validation error for GenerateContentConfig\ncontents\n  Extra inputs are not permitted [type=extra_forbidden, input_value=[['DuckDB Database Schema...,', '  value VARCHAR,']], input_type=list]\n    For further information visit https://errors.pydantic.dev/2.10/v/extra_forbidden"
     ]
    }
   ],
   "source": [
    "# These are the Python functions defined above.\n",
    "db_tools = [execute_query]\n",
    "\n",
    "instruction = \"\"\"You are a helpful chatbot that can interact with a DuckDB SQL database. \n",
    "You will take the users questions and turn them into SQL queries using the tools available. \n",
    "Once you have the information you need, you will answer the user's question using the data returned.\n",
    "\n",
    "Use execute_query to issue an SQL SELECT query.\"\"\"\n",
    "\n",
    "\n",
    "# Start a chat with automatic function calling enabled.\n",
    "chat = client.chats.create(\n",
    "    model=\"gemini-2.0-flash\",\n",
    "    config=types.GenerateContentConfig(\n",
    "        system_instruction=instruction,\n",
    "        tools=db_tools,\n",
    "        contents=[schema_output],\n",
    "    ),\n",
    ")"
   ]
  },
  {
   "cell_type": "code",
   "execution_count": null,
   "metadata": {},
   "outputs": [],
   "source": [
    "resp = chat.send_message(\"What is the cheapest product?\")\n",
    "print(f\"\\n{resp.text}\")"
   ]
  },
  {
   "cell_type": "code",
   "execution_count": null,
   "metadata": {
    "execution": {
     "iopub.execute_input": "2025-03-31T09:30:35.570603Z",
     "iopub.status.busy": "2025-03-31T09:30:35.570251Z",
     "iopub.status.idle": "2025-03-31T09:30:48.493915Z",
     "shell.execute_reply": "2025-03-31T09:30:48.49302Z",
     "shell.execute_reply.started": "2025-03-31T09:30:35.570572Z"
    },
    "id": "Jxx92-z90tPS",
    "outputId": "1ed16b55-d456-4099-acac-04e9540c6aee",
    "trusted": true
   },
   "outputs": [],
   "source": [
    "document_file = client.files.upload(file='fsnds.pdf')\n",
    "request = 'How is the sub table connected to the cal table?'\n",
    "\n",
    "def summarise_doc(request: str) -> str:\n",
    "  \"\"\"Execute the request on the uploaded document.\"\"\"\n",
    "  # Set the temperature low to stabilise the output.\n",
    "  config = types.GenerateContentConfig(temperature=0.0)\n",
    "  response = client.models.generate_content(\n",
    "      model='gemini-2.0-flash',\n",
    "      config=config,\n",
    "      contents=[request, document_file],\n",
    "  )\n",
    "\n",
    "  return response.text\n",
    "\n",
    "summary = summarise_doc(request)\n",
    "Markdown(summary)"
   ]
  },
  {
   "cell_type": "code",
   "execution_count": null,
   "metadata": {
    "execution": {
     "iopub.execute_input": "2025-03-31T09:30:48.495065Z",
     "iopub.status.busy": "2025-03-31T09:30:48.494779Z",
     "iopub.status.idle": "2025-03-31T09:30:49.938861Z",
     "shell.execute_reply": "2025-03-31T09:30:49.937607Z",
     "shell.execute_reply.started": "2025-03-31T09:30:48.495042Z"
    },
    "id": "xEAXtJte-Ajv",
    "outputId": "04459189-13ee-49e6-fe4d-525d323b1609",
    "trusted": true
   },
   "outputs": [],
   "source": []
  },
  {
   "cell_type": "markdown",
   "metadata": {
    "id": "qfkQ0lUByy2o"
   },
   "source": [
    "In this example, the model generated a textual justification that was set up in a chat context. This full text response is useful both for human interpretation and for giving the model a place to \"collect notes\" while it assesses the text and produces a final score. This \"note taking\" or \"thinking\" strategy typically works well with auto-regressive models, where the generated text is passed back into the model at each generation step. This means the working \"notes\" are used when generating final result output.\n",
    "\n",
    "In the next turn, the model converts the text output into a structured response. If you want to aggregate scores or use them programatically then you want to avoid parsing the unstructured text output. Here the `SummaryRating` schema is passed, so the model converts the chat history into an instance of the `SummaryRating` enum."
   ]
  }
 ],
 "metadata": {
  "colab": {
   "provenance": [],
   "toc_visible": true
  },
  "kaggle": {
   "accelerator": "none",
   "dataSources": [],
   "dockerImageVersionId": 30918,
   "isGpuEnabled": false,
   "isInternetEnabled": true,
   "language": "python",
   "sourceType": "notebook"
  },
  "kernelspec": {
   "display_name": "py312",
   "language": "python",
   "name": "python3"
  },
  "language_info": {
   "codemirror_mode": {
    "name": "ipython",
    "version": 3
   },
   "file_extension": ".py",
   "mimetype": "text/x-python",
   "name": "python",
   "nbconvert_exporter": "python",
   "pygments_lexer": "ipython3",
   "version": "3.12.8"
  }
 },
 "nbformat": 4,
 "nbformat_minor": 4
}
